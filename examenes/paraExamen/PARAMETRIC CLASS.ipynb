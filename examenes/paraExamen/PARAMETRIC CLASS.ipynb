{
 "cells": [
  {
   "cell_type": "code",
   "execution_count": 1,
   "id": "9d51d80c-7871-4cad-b845-8fdcfaf0fbb9",
   "metadata": {
    "tags": []
   },
   "outputs": [],
   "source": [
    "# Importing Libraries\n",
    "from skimage import color, io, measure, img_as_ubyte, segmentation\n",
    "from skimage.measure import profile_line, label, regionprops\n",
    "from skimage.transform import rescale, resize\n",
    "from skimage.util import img_as_float, img_as_ubyte\n",
    "from skimage.filters import threshold_otsu, gaussian, prewitt, prewitt_h, prewitt_v\n",
    "from skimage.filters.rank import mean,median\n",
    "from skimage.color import label2rgb\n",
    "from skimage.morphology import disk,square, erosion, dilation, opening, closing\n",
    "from skimage.segmentation import clear_border\n",
    "\n",
    "\n",
    "import matplotlib.pyplot as plt\n",
    "\n",
    "import scipy.stats as stats\n",
    "from scipy.optimize import fsolve\n",
    "\n",
    "import numpy as np\n",
    "\n",
    "import pydicom as dicom\n",
    "\n",
    "import sklearn\n",
    "from sklearn.preprocessing import StandardScaler, Normalizer\n",
    "from sklearn import decomposition\n",
    "\n",
    "from skimage.transform import SimilarityTransform, warp, matrix_transform\n",
    "\n",
    "import cv2"
   ]
  },
  {
   "cell_type": "markdown",
   "id": "fb1cf8b6-e7bb-487c-bce9-ce984c53d559",
   "metadata": {
    "jp-MarkdownHeadingCollapsed": true,
    "tags": []
   },
   "source": [
    "# buscar rangos"
   ]
  },
  {
   "cell_type": "code",
   "execution_count": 10,
   "id": "28d4dd51-2994-419a-82ce-4c5434947dbb",
   "metadata": {
    "tags": []
   },
   "outputs": [],
   "source": [
    "import numpy as np\n",
    "from scipy import stats, optimize\n",
    "\n",
    "def compute_pixel_value_ranges(category1_values, category2_values, category3_values):\n",
    "    # Estimate the parameters (mean and variance) for each class\n",
    "    mean_category1 = np.mean(category1_values)\n",
    "    variance_category1 = np.var(category1_values, ddof=1)\n",
    "    mean_category2 = np.mean(category2_values)\n",
    "    variance_category2 = np.var(category2_values, ddof=1)\n",
    "    mean_category3 = np.mean(category3_values)\n",
    "    variance_category3 = np.var(category3_values, ddof=1)\n",
    "\n",
    "    # Define the number of standard deviations to include in the range\n",
    "    num_std_devs = 1  # You can adjust this value as needed\n",
    "\n",
    "    # Define the Gaussian PDFs for each class\n",
    "    pdf_category1 = stats.norm(loc=mean_category1, scale=np.sqrt(variance_category1))\n",
    "    pdf_category2 = stats.norm(loc=mean_category2, scale=np.sqrt(variance_category2))\n",
    "    pdf_category3 = stats.norm(loc=mean_category3, scale=np.sqrt(variance_category3))\n",
    "\n",
    "    # Define a function to find the intersection points\n",
    "    def find_intersection12(x):\n",
    "        return pdf_category1.pdf(x) - pdf_category2.pdf(x)\n",
    "\n",
    "    def find_intersection23(x):\n",
    "        return pdf_category2.pdf(x) - pdf_category3.pdf(x)\n",
    "\n",
    "    # Use fsolve to find the pixel intensity values where PDFs intersect\n",
    "    intersection_point_categories12 = optimize.fsolve(find_intersection12, x0=(mean_category1 + mean_category2) / 2)\n",
    "    intersection_point_categories23 = optimize.fsolve(find_intersection23, x0=(mean_category2 + mean_category3) / 2)\n",
    "\n",
    "    # Define the pixel intensity ranges for each category\n",
    "    category1_range = (0, round(intersection_point_categories12[0]))\n",
    "    category2_range = (round(intersection_point_categories12[0]), round(intersection_point_categories23[0]))\n",
    "    category3_range = (round(intersection_point_categories23[0]), 255)\n",
    "\n",
    "    # Return the pixel intensity ranges\n",
    "    return category1_range, category2_range, category3_range"
   ]
  },
  {
   "cell_type": "code",
   "execution_count": 11,
   "id": "1e626165-ea12-4b8f-afda-620fa885ce01",
   "metadata": {
    "tags": []
   },
   "outputs": [
    {
     "name": "stdout",
     "output_type": "stream",
     "text": [
      "Class Ranges:\n",
      "category1 Range: (0, 70)\n",
      "category2 Range: (70, 81)\n",
      "category3 Range: (81, 255)\n"
     ]
    }
   ],
   "source": [
    "# Example usage:\n",
    "category1_values = np.array([68, 65, 67])\n",
    "category2_values = np.array([70, 80, 75])\n",
    "category3_values = np.array([77, 92, 89])\n",
    "\n",
    "result = compute_pixel_value_ranges(category1_values, category2_values, category3_values)\n",
    "\n",
    "# Display the extreme values of the class ranges\n",
    "print(\"Class Ranges:\")\n",
    "print(f\"category1 Range: {result[0]}\")\n",
    "print(f\"category2 Range: {result[1]}\")\n",
    "print(f\"category3 Range: {result[2]}\")"
   ]
  },
  {
   "cell_type": "markdown",
   "id": "d34f36ba-a4ef-4b93-be6b-82d801528849",
   "metadata": {},
   "source": [
    "# minimu, param y dado un valor ..."
   ]
  },
  {
   "cell_type": "code",
   "execution_count": null,
   "id": "57122b65-d2d5-410b-8706-39516986977c",
   "metadata": {},
   "outputs": [],
   "source": [
    "import numpy as np\n",
    "import matplotlib.pyplot as plt\n",
    "from scipy.stats import norm\n",
    "\n",
    "# Training data\n",
    "cows = np.array([26, 46, 33, 23, 35, 28, 21, 30, 38, 43])\n",
    "sheep = np.array([67, 27, 40, 60, 39, 45, 27, 67, 43, 50, 37, 100])\n",
    "\n",
    "# Compute mean and standard deviation for cows and sheep\n",
    "mean_cows, std_cows = np.mean(cows), np.std(cows)\n",
    "mean_sheep, std_sheep = np.mean(sheep), np.std(sheep)\n",
    "\n",
    "# Compute intensity threshold using the minimum distance classifier\n",
    "intensity_threshold = (mean_cows + mean_sheep) / 2\n",
    "\n",
    "# Display the results\n",
    "print(\"Intensity Threshold (Minimum Distance Classifier):\", intensity_threshold)\n",
    "\n",
    "# Fit Gaussians to the data\n",
    "x = np.linspace(min(min(cows), min(sheep)), max(max(cows), max(sheep)), 1000)\n",
    "\n",
    "pdf_cows = norm.pdf(x, mean_cows, std_cows)\n",
    "pdf_sheep = norm.pdf(x, mean_sheep, std_sheep)\n",
    "\n",
    "# Find the intersection point\n",
    "intersection_point = np.argmin(np.abs(pdf_cows - pdf_sheep))\n",
    "\n",
    "# Display the results\n",
    "print(\"Intersection Point (Parametric Classification):\", x[intersection_point])"
   ]
  },
  {
   "cell_type": "code",
   "execution_count": null,
   "id": "db43f6e8-3f85-4735-ae12-ae288750dde0",
   "metadata": {},
   "outputs": [],
   "source": [
    "from scipy.stats import norm\n",
    "\n",
    "# Given values\n",
    "value = 38\n",
    "\n",
    "# Compute the probability density for cows and sheep at the given value\n",
    "pdf_cows_at_38 = norm.pdf(value, mean_cows, std_cows)\n",
    "pdf_sheep_at_38 = norm.pdf(value, mean_sheep, std_sheep)\n",
    "\n",
    "# Display the results\n",
    "print(\"Probability Density for Cows at 38:\", pdf_cows_at_38)\n",
    "print(\"Probability Density for Sheep at 38:\", pdf_sheep_at_38)\n"
   ]
  },
  {
   "cell_type": "code",
   "execution_count": null,
   "id": "e062d3e5-fa29-4257-b2d5-0edd381dccc8",
   "metadata": {},
   "outputs": [],
   "source": []
  },
  {
   "cell_type": "code",
   "execution_count": null,
   "id": "ab33742f-3bbc-4bd4-979b-b966b754c16f",
   "metadata": {},
   "outputs": [],
   "source": []
  },
  {
   "cell_type": "code",
   "execution_count": null,
   "id": "06893f69-7b2d-4972-bd30-837b07e265e9",
   "metadata": {},
   "outputs": [],
   "source": []
  }
 ],
 "metadata": {
  "kernelspec": {
   "display_name": "Python 3 (ipykernel)",
   "language": "python",
   "name": "python3"
  },
  "language_info": {
   "codemirror_mode": {
    "name": "ipython",
    "version": 3
   },
   "file_extension": ".py",
   "mimetype": "text/x-python",
   "name": "python",
   "nbconvert_exporter": "python",
   "pygments_lexer": "ipython3",
   "version": "3.11.4"
  }
 },
 "nbformat": 4,
 "nbformat_minor": 5
}
