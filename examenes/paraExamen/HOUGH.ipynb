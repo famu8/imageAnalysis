{
 "cells": [
  {
   "cell_type": "code",
   "execution_count": 1,
   "id": "c6cd3f88-0e61-43cf-9d52-e032396f07a9",
   "metadata": {
    "tags": []
   },
   "outputs": [
    {
     "name": "stdout",
     "output_type": "stream",
     "text": [
      "Approximate data points in the xy-plane:\n",
      "(1, 2.40)\n",
      "(2, 4.21)\n",
      "(3, 6.01)\n",
      "(4, 7.81)\n",
      "(5, 9.62)\n",
      "(6, 11.42)\n",
      "(7, 13.23)\n",
      "(8, 15.03)\n",
      "(9, 16.83)\n",
      "(10, 18.64)\n",
      "(11, 20.44)\n"
     ]
    }
   ],
   "source": [
    "# Mapping from Hough Space to Cartesian Space \n",
    "# Given Hough space parameters\n",
    "import numpy as np\n",
    "\n",
    "rho = 0.29\n",
    "theta_degrees = 151\n",
    "\n",
    "# Convert theta from degrees to radians\n",
    "theta_rad = theta_degrees * (np.pi / 180)\n",
    "\n",
    "# Function to calculate y for a given x\n",
    "def calculate_y(x):\n",
    "    return (rho - x * np.cos(theta_rad)) / np.sin(theta_rad)\n",
    "\n",
    "# Calculate y for a range of x values\n",
    "x_values = [1,2,3,4,5,6,7,8,9,10,11]  # Choose different x values\n",
    "corresponding_y_values = [calculate_y(x) for x in x_values]\n",
    "\n",
    "# Display the approximate data points\n",
    "print(\"Approximate data points in the xy-plane:\")\n",
    "for i, x in enumerate(x_values):\n",
    "    y = corresponding_y_values[i]\n",
    "    print(f\"({x}, {y:.2f})\")"
   ]
  },
  {
   "cell_type": "code",
   "execution_count": 2,
   "id": "4ee47757-1c86-4277-9f29-8c6ce4d20cda",
   "metadata": {
    "tags": []
   },
   "outputs": [],
   "source": [
    "# de los resutlados que te han dado comparas con los pares de parejas que te\n",
    "# salen en las soluciones y eliges los que coincidan"
   ]
  },
  {
   "cell_type": "code",
   "execution_count": null,
   "id": "1870dfb4-ecfd-42e5-ba9c-d4b5b1eee29f",
   "metadata": {},
   "outputs": [],
   "source": []
  }
 ],
 "metadata": {
  "kernelspec": {
   "display_name": "Python 3 (ipykernel)",
   "language": "python",
   "name": "python3"
  },
  "language_info": {
   "codemirror_mode": {
    "name": "ipython",
    "version": 3
   },
   "file_extension": ".py",
   "mimetype": "text/x-python",
   "name": "python",
   "nbconvert_exporter": "python",
   "pygments_lexer": "ipython3",
   "version": "3.11.4"
  }
 },
 "nbformat": 4,
 "nbformat_minor": 5
}
