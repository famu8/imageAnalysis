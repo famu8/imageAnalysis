{
 "cells": [
  {
   "cell_type": "code",
   "execution_count": 2,
   "id": "cad0bdec-9658-406a-a6e3-fd6b7ac6bd1b",
   "metadata": {
    "tags": []
   },
   "outputs": [],
   "source": [
    "import numpy as np"
   ]
  },
  {
   "cell_type": "code",
   "execution_count": 11,
   "id": "b3ece2fc-baec-453c-bc22-8457a1274e88",
   "metadata": {
    "tags": []
   },
   "outputs": [
    {
     "name": "stdout",
     "output_type": "stream",
     "text": [
      "maximo framme rate: 12.715658\n"
     ]
    }
   ],
   "source": [
    "# tienes dos tipos de ejs\n",
    "# tipo 1: \n",
    "\"\"\"\n",
    "Te dan uno mb/s, tamaño de imgs y te preguntan el mazimo frame rate\n",
    "\"\"\"\n",
    "mbs= 30e6 # esto puede cambiar aqui te dan mb por eso e3 pero te pueden dar lo q sea\n",
    "s1 = 1024\n",
    "s2 = 768\n",
    "framme_rate = mbs/((s1*s2)*3)\n",
    "print(f\"maximo framme rate: {framme_rate:4f}\")"
   ]
  },
  {
   "cell_type": "code",
   "execution_count": 12,
   "id": "70879598-ddaa-427c-9c10-308bb79e3e17",
   "metadata": {
    "tags": []
   },
   "outputs": [
    {
     "name": "stdout",
     "output_type": "stream",
     "text": [
      "framme_rate: 41.666667 Hz\n"
     ]
    }
   ],
   "source": [
    "# tipo 2 \n",
    "\"\"\"\n",
    "Te dan el tiempo que tarda tu algoritmo en analizar una img y\n",
    "los fps, calcula el maximo frame rate\n",
    "\"\"\"\n",
    "t = 24e-3\n",
    "framme_rate = 1/t\n",
    "print(f\"framme_rate: {framme_rate:4f} Hz\")"
   ]
  },
  {
   "cell_type": "code",
   "execution_count": null,
   "id": "6250f693-0b10-4dbb-ae4c-ed565e32f057",
   "metadata": {},
   "outputs": [],
   "source": []
  }
 ],
 "metadata": {
  "kernelspec": {
   "display_name": "Python 3 (ipykernel)",
   "language": "python",
   "name": "python3"
  },
  "language_info": {
   "codemirror_mode": {
    "name": "ipython",
    "version": 3
   },
   "file_extension": ".py",
   "mimetype": "text/x-python",
   "name": "python",
   "nbconvert_exporter": "python",
   "pygments_lexer": "ipython3",
   "version": "3.11.4"
  }
 },
 "nbformat": 4,
 "nbformat_minor": 5
}
