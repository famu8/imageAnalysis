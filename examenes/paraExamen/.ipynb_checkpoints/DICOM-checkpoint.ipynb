{
 "cells": [
  {
   "cell_type": "markdown",
   "id": "89321798-7e69-4a2f-b000-96a58e8bfea1",
   "metadata": {},
   "source": [
    "# DICOM CT ETC"
   ]
  },
  {
   "cell_type": "code",
   "execution_count": null,
   "id": "20325ed5-94bc-4a63-8ae9-3a29d61ea80d",
   "metadata": {},
   "outputs": [],
   "source": [
    "# ABRIR y MOSTRAR imagen dcm\n",
    "in_dir = \"data/\"\n",
    "ct = dicom.read_file(in_dir + '1-179.dcm')\n",
    "img_dcm = ct.pixel_array\n",
    "print(img_dcm.shape)\n",
    "print(img_dcm.dtype)\n",
    "\n",
    "io.imshow(img_dcm, vmin=1, vmax=90, cmap='gray')\n",
    "io.show()"
   ]
  },
  {
   "cell_type": "code",
   "execution_count": null,
   "id": "668b86a5-9d61-4235-b0f2-27e3693c88f3",
   "metadata": {},
   "outputs": [],
   "source": [
    "# abrir y mostrar ROI\n",
    "in_dir = \"./data\"\n",
    "im_name = \"/LiverROI.png\"\n",
    "liver_im = io.imread(in_dir + im_name)\n",
    "liver_im = img_as_ubyte(liver_im)\n",
    "io.imshow(liver_im)"
   ]
  },
  {
   "cell_type": "code",
   "execution_count": null,
   "id": "26fd0c76-9daf-41e9-9a19-fdff3e7b6d93",
   "metadata": {},
   "outputs": [],
   "source": [
    "# pones la ROI (mascara), encima de la imagen dicom y asi obtienes\n",
    "# solo los valores de esa zona en la image dcm\n",
    "# calculas la media y la std\n",
    "\n",
    "liver_mask = liver_roi > 0\n",
    "liver_values = img_dcm[liver_mask]\n",
    "\n",
    "mu_liver = liver_values.mean()\n",
    "std_liver = liver_values.std()\n",
    "\n",
    "print(\"mean:\", mu_liver)\n",
    "print(\"std:\", std_liver)"
   ]
  },
  {
   "cell_type": "code",
   "execution_count": null,
   "id": "3bc4a909-c52b-4fd2-bbc1-5595b4584d20",
   "metadata": {},
   "outputs": [],
   "source": [
    "# calculas los threshold que te pidan \n",
    "t1 = mu_liver-std_liver\n",
    "print(\"t1:\", t1)\n",
    "t2 = mu_liver+std_liver\n",
    "print(\"t2:\", t2)"
   ]
  },
  {
   "cell_type": "code",
   "execution_count": null,
   "id": "73ceb008-be3d-46ae-8294-b58fe95df3f7",
   "metadata": {},
   "outputs": [],
   "source": [
    "# aplicas la funcion que toma la imagen dicom, y los th anteriores\n",
    "def th_dicom_image(im, t1, t2):\n",
    "    binary_mask = (im >= t1) & (im <= t2)\n",
    "    mask2 = img_as_ubyte(binary_mask)\n",
    "    # calculas el num depx que son igual a 255 (foreground)     \n",
    "    foreground_px = np.sum(mask2 == 255)\n",
    "    return mask2, foreground_pixels"
   ]
  },
  {
   "cell_type": "code",
   "execution_count": null,
   "id": "350a8826-d619-4302-83d9-9d994715a304",
   "metadata": {},
   "outputs": [],
   "source": [
    "im_liver, px_foreground = th_dicom_image(img_dcm, t1, t2)\n",
    "print(\"Foreground px: \", px_foreground)\n",
    "io.imshow(im_liver)"
   ]
  },
  {
   "cell_type": "code",
   "execution_count": null,
   "id": "1f574341-105b-431d-9c26-b25f2cff6882",
   "metadata": {},
   "outputs": [],
   "source": []
  },
  {
   "cell_type": "code",
   "execution_count": null,
   "id": "decbfc24-0b98-41bf-9d59-def50e439ffc",
   "metadata": {},
   "outputs": [],
   "source": []
  },
  {
   "cell_type": "code",
   "execution_count": null,
   "id": "63dfe265-3d39-43bd-9b03-ac184b62bbaa",
   "metadata": {},
   "outputs": [],
   "source": []
  },
  {
   "cell_type": "code",
   "execution_count": null,
   "id": "be8a0242-caa6-4783-bf3e-3f55ef1f3db8",
   "metadata": {},
   "outputs": [],
   "source": []
  },
  {
   "cell_type": "code",
   "execution_count": null,
   "id": "5e6dbd31-584a-4eb8-82cc-a81789c08635",
   "metadata": {},
   "outputs": [],
   "source": []
  },
  {
   "cell_type": "code",
   "execution_count": null,
   "id": "764e3555-b68f-4719-bb7b-e1fa39110675",
   "metadata": {},
   "outputs": [],
   "source": []
  },
  {
   "cell_type": "code",
   "execution_count": null,
   "id": "ee28af21-461f-44ce-a3ee-42d5d35eb23c",
   "metadata": {},
   "outputs": [],
   "source": []
  },
  {
   "cell_type": "code",
   "execution_count": null,
   "id": "567437a4-99e3-4582-ad64-8f44ea352041",
   "metadata": {},
   "outputs": [],
   "source": []
  },
  {
   "cell_type": "code",
   "execution_count": null,
   "id": "c20779c8-653e-495a-83be-ad7451e6e75c",
   "metadata": {},
   "outputs": [],
   "source": []
  },
  {
   "cell_type": "code",
   "execution_count": null,
   "id": "a75974fe-bce9-45ae-8c4b-b209c1df1bf2",
   "metadata": {},
   "outputs": [],
   "source": []
  },
  {
   "cell_type": "code",
   "execution_count": null,
   "id": "ebc22d98-248d-419d-9d35-df7dac391e14",
   "metadata": {},
   "outputs": [],
   "source": []
  },
  {
   "cell_type": "code",
   "execution_count": null,
   "id": "bdecdd43-b865-4620-bd2b-cabd7050e638",
   "metadata": {},
   "outputs": [],
   "source": []
  },
  {
   "cell_type": "code",
   "execution_count": null,
   "id": "1ee5d955-fde5-408b-8d03-a9a2bcc985c5",
   "metadata": {},
   "outputs": [],
   "source": []
  },
  {
   "cell_type": "code",
   "execution_count": null,
   "id": "238d54ae-0240-4166-be69-615531e6a84b",
   "metadata": {},
   "outputs": [],
   "source": []
  },
  {
   "cell_type": "code",
   "execution_count": null,
   "id": "74dbec59-b056-496e-b72b-0efbe822fe8d",
   "metadata": {},
   "outputs": [],
   "source": []
  },
  {
   "cell_type": "code",
   "execution_count": null,
   "id": "eff1341d-babc-469a-a423-5df16126fba7",
   "metadata": {},
   "outputs": [],
   "source": []
  },
  {
   "cell_type": "code",
   "execution_count": null,
   "id": "6874102c-fd5e-468e-87ce-da45b97d54ff",
   "metadata": {},
   "outputs": [],
   "source": []
  },
  {
   "cell_type": "code",
   "execution_count": null,
   "id": "c45e8247-b529-47f9-886b-ca1f920d7be6",
   "metadata": {},
   "outputs": [],
   "source": []
  },
  {
   "cell_type": "code",
   "execution_count": null,
   "id": "09ca0531-fc26-4e74-a58c-c200c34cade9",
   "metadata": {},
   "outputs": [],
   "source": []
  },
  {
   "cell_type": "code",
   "execution_count": null,
   "id": "376ff34f-7b13-473c-941b-d2b7db09229d",
   "metadata": {},
   "outputs": [],
   "source": []
  },
  {
   "cell_type": "code",
   "execution_count": null,
   "id": "aed91773-c248-43b2-92b9-472f259afe20",
   "metadata": {},
   "outputs": [],
   "source": []
  },
  {
   "cell_type": "code",
   "execution_count": null,
   "id": "6f8ac8cb-e067-4d44-ba68-17f05c331366",
   "metadata": {},
   "outputs": [],
   "source": []
  },
  {
   "cell_type": "code",
   "execution_count": null,
   "id": "8ebace55-4ef8-4c78-a5db-79c5fa987d50",
   "metadata": {},
   "outputs": [],
   "source": []
  },
  {
   "cell_type": "code",
   "execution_count": null,
   "id": "daa5b00c-65c4-47b0-87f3-4a37032607d3",
   "metadata": {},
   "outputs": [],
   "source": []
  },
  {
   "cell_type": "code",
   "execution_count": null,
   "id": "edb079aa-59cb-4a26-b7b9-e7da1460a471",
   "metadata": {},
   "outputs": [],
   "source": []
  },
  {
   "cell_type": "code",
   "execution_count": null,
   "id": "a929fb06-d0d8-451d-8f01-5b522ea29935",
   "metadata": {},
   "outputs": [],
   "source": []
  },
  {
   "cell_type": "code",
   "execution_count": null,
   "id": "295d885c-f8f5-40f9-815f-ec3746fefe61",
   "metadata": {},
   "outputs": [],
   "source": []
  },
  {
   "cell_type": "code",
   "execution_count": null,
   "id": "5deab1de-c1d1-4f18-93d1-34cfb27aaf52",
   "metadata": {},
   "outputs": [],
   "source": []
  },
  {
   "cell_type": "code",
   "execution_count": null,
   "id": "570dbf3b-08f4-4059-9032-706b3742a770",
   "metadata": {},
   "outputs": [],
   "source": []
  },
  {
   "cell_type": "code",
   "execution_count": null,
   "id": "f573b205-cbbc-40cb-bd25-c1e6d434a4f2",
   "metadata": {},
   "outputs": [],
   "source": []
  },
  {
   "cell_type": "code",
   "execution_count": null,
   "id": "6fd33707-fde4-472c-939e-b95f5dd415d4",
   "metadata": {},
   "outputs": [],
   "source": []
  },
  {
   "cell_type": "code",
   "execution_count": null,
   "id": "b047e276-4db9-4923-b21f-b34c5db994c1",
   "metadata": {},
   "outputs": [],
   "source": []
  },
  {
   "cell_type": "code",
   "execution_count": null,
   "id": "d91010cf-e806-4ba8-9055-50b37cccc828",
   "metadata": {},
   "outputs": [],
   "source": []
  },
  {
   "cell_type": "code",
   "execution_count": null,
   "id": "06ca6c7c-4f71-4ff6-9037-30ea9140ec35",
   "metadata": {},
   "outputs": [],
   "source": []
  },
  {
   "cell_type": "code",
   "execution_count": null,
   "id": "a3d9024f-a0cb-436e-8dd7-8487d66d831f",
   "metadata": {},
   "outputs": [],
   "source": []
  },
  {
   "cell_type": "code",
   "execution_count": null,
   "id": "1ac279b5-fcd9-4e07-8f4b-3e4eb52eb64b",
   "metadata": {},
   "outputs": [],
   "source": []
  }
 ],
 "metadata": {
  "kernelspec": {
   "display_name": "Python 3 (ipykernel)",
   "language": "python",
   "name": "python3"
  },
  "language_info": {
   "codemirror_mode": {
    "name": "ipython",
    "version": 3
   },
   "file_extension": ".py",
   "mimetype": "text/x-python",
   "name": "python",
   "nbconvert_exporter": "python",
   "pygments_lexer": "ipython3",
   "version": "3.11.4"
  }
 },
 "nbformat": 4,
 "nbformat_minor": 5
}
