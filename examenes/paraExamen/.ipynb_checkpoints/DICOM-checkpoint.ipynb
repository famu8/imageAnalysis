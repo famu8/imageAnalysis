{
 "cells": [
  {
   "cell_type": "markdown",
   "id": "89321798-7e69-4a2f-b000-96a58e8bfea1",
   "metadata": {},
   "source": [
    "# DICOM CT ETC loq renta esta abajo"
   ]
  },
  {
   "cell_type": "code",
   "execution_count": null,
   "id": "20325ed5-94bc-4a63-8ae9-3a29d61ea80d",
   "metadata": {},
   "outputs": [],
   "source": [
    "# ABRIR y MOSTRAR imagen dcm\n",
    "in_dir = \"data/\"\n",
    "ct = dicom.read_file(in_dir + '1-179.dcm')\n",
    "img_dcm = ct.pixel_array\n",
    "print(img_dcm.shape)\n",
    "print(img_dcm.dtype)\n",
    "\n",
    "io.imshow(img_dcm, vmin=1, vmax=90, cmap='gray')\n",
    "io.show()"
   ]
  },
  {
   "cell_type": "code",
   "execution_count": null,
   "id": "668b86a5-9d61-4235-b0f2-27e3693c88f3",
   "metadata": {},
   "outputs": [],
   "source": [
    "# abrir y mostrar ROI\n",
    "in_dir = \"./data\"\n",
    "im_name = \"/LiverROI.png\"\n",
    "liver_im = io.imread(in_dir + im_name)\n",
    "liver_im = img_as_ubyte(liver_im)\n",
    "io.imshow(liver_im)"
   ]
  },
  {
   "cell_type": "code",
   "execution_count": null,
   "id": "26fd0c76-9daf-41e9-9a19-fdff3e7b6d93",
   "metadata": {},
   "outputs": [],
   "source": [
    "# pones la ROI (mascara), encima de la imagen dicom y asi obtienes\n",
    "# solo los valores de esa zona en la image dcm\n",
    "# calculas la media y la std\n",
    "\n",
    "liver_mask = liver_roi > 0\n",
    "liver_values = img_dcm[liver_mask]\n",
    "\n",
    "mu_liver = liver_values.mean()\n",
    "std_liver = liver_values.std()\n",
    "\n",
    "print(\"mean:\", mu_liver)\n",
    "print(\"std:\", std_liver)"
   ]
  },
  {
   "cell_type": "code",
   "execution_count": null,
   "id": "3bc4a909-c52b-4fd2-bbc1-5595b4584d20",
   "metadata": {},
   "outputs": [],
   "source": [
    "# calculas los threshold que te pidan \n",
    "t1 = mu_liver-std_liver\n",
    "print(\"t1:\", t1)\n",
    "t2 = mu_liver+std_liver\n",
    "print(\"t2:\", t2)"
   ]
  },
  {
   "cell_type": "code",
   "execution_count": null,
   "id": "73ceb008-be3d-46ae-8294-b58fe95df3f7",
   "metadata": {},
   "outputs": [],
   "source": [
    "# aplicas la funcion que toma la imagen dicom, y los th anteriores\n",
    "def th_dicom_image(im, t1, t2):\n",
    "    binary_mask = (im >= t1) & (im <= t2)\n",
    "    mask2 = img_as_ubyte(binary_mask)\n",
    "    # calculas el num depx que son igual a 255 (foreground)     \n",
    "    foreground_px = np.sum(mask2 == 255)\n",
    "    return mask2, foreground_pixels"
   ]
  },
  {
   "cell_type": "code",
   "execution_count": null,
   "id": "350a8826-d619-4302-83d9-9d994715a304",
   "metadata": {},
   "outputs": [],
   "source": [
    "im_liver, px_foreground = th_dicom_image(img_dcm, t1, t2)\n",
    "print(\"Foreground px: \", px_foreground)\n",
    "io.imshow(im_liver)"
   ]
  },
  {
   "cell_type": "markdown",
   "id": "107c99bf-1adc-4c3a-ad55-9da9e2af4b99",
   "metadata": {},
   "source": [
    "# dicom para segmentar imagenes o minimun distance classifier"
   ]
  },
  {
   "cell_type": "code",
   "execution_count": null,
   "id": "decbfc24-0b98-41bf-9d59-def50e439ffc",
   "metadata": {},
   "outputs": [],
   "source": [
    "# Read a CT DICOM image\n",
    "in_dir = r\"./data/dicom\"\n",
    "ct = dicom.read_file(in_dir + r'\\1-131.dcm')\n",
    "img = ct.pixel_array\n",
    "\n",
    "# Read a ROI image\n",
    "spleen_roi = io.imread(in_dir + r'\\SpleenROI.png')\n",
    "# convert to boolean image\n",
    "spleen_mask = spleen_roi > 0\n",
    "# Obtain the Hounsfield unit values \n",
    "spleen_values = img[spleen_mask]\n",
    "\n",
    "# Read a ROI image\n",
    "bone_roi = io.imread(in_dir + r'\\BoneROI.png')\n",
    "# convert to boolean image\n",
    "bone_mask = bone_roi > 0\n",
    "# Obtain the Hounsfield unit values \n",
    "bone_values = img[bone_mask]\n",
    "\n",
    "# Read a ROI image\n",
    "liver_roi = io.imread(in_dir + r'\\LiverROI.png')\n",
    "# convert to boolean image\n",
    "liver_mask = liver_roi > 0\n",
    "# Obtain the Hounsfield unit values \n",
    "liver_values = img[liver_mask]\n",
    "\n",
    "\n",
    "\n",
    "# We compute the mean intensity value for each of the categories\n",
    "mean_category1 = np.mean(liver_values)\n",
    "mean_category2 = np.mean(spleen_values)\n",
    "mean_category3 = np.mean(bone_values)\n",
    "\n",
    "# In order to find the thresholds we need to do the mean between the mean values for each of the classes\n",
    "sorted_means = np.sort(np.array([mean_category1, mean_category2, mean_category3]))\n",
    "T1 = (sorted_means[0] + sorted_means[1])/2\n",
    "T2 = (sorted_means[1] + sorted_means[2])/2\n",
    "print(f'Lower boundary:',round(T1),', Upper boundary:',round(T2))\n"
   ]
  },
  {
   "cell_type": "code",
   "execution_count": null,
   "id": "cf9aa225-8645-4f22-908b-ec306bf93004",
   "metadata": {},
   "outputs": [],
   "source": [
    "binary_img = (img > t1) & (img < t2)\n",
    "io.imshow(binary_img)"
   ]
  },
  {
   "cell_type": "code",
   "execution_count": null,
   "id": "0f00c41b-fe3f-4654-b156-2ea16501a144",
   "metadata": {},
   "outputs": [],
   "source": [
    "kidney_roi = np.array(kidney_roi, dtype=bool)\n",
    "img =np.array(binary_img, dtype=bool)\n",
    "\n",
    "# Dice similarity function\n",
    "def dice(pred, true, k = 1):\n",
    "    intersection = np.sum(pred[true==k]) * 2.0\n",
    "    dice = intersection / (np.sum(pred) + np.sum(true))\n",
    "    return dice\n",
    "\n",
    "dice_score = dice(img,kidney_roi, k = 1) #255 in my case, can be 1 \n",
    "print (\"Dice Similarity: {}\".format(dice_score))"
   ]
  },
  {
   "cell_type": "markdown",
   "id": "c543e316-684c-402d-a612-45bc9e2d8b1f",
   "metadata": {},
   "source": [
    "# dicom con blob"
   ]
  },
  {
   "cell_type": "code",
   "execution_count": null,
   "id": "be8a0242-caa6-4783-bf3e-3f55ef1f3db8",
   "metadata": {},
   "outputs": [],
   "source": [
    "plt.imshow(img,cmap=\"gray\")\n",
    "plt.axis('off')\n",
    "\n",
    "for i in range(0, img.shape[0]):\n",
    "    for j in range(0,img.shape[1]):\n",
    "        if img[i][j] < 400 and img[i][j] > 85:\n",
    "            img[i][j] = 1\n",
    "        else:\n",
    "            img[i][j] = 0\n",
    "            \n",
    "plt.imshow(img,cmap=\"gray\")\n",
    "plt.axis('off')\n",
    "\n",
    "disk_st = disk(5)\n",
    "closed_img = closing(img,disk_st)\n",
    "\n",
    "disk_st = disk(3)\n",
    "opened_img = opening(closed_img,disk_st)\n",
    "\n",
    "\n",
    "\n",
    "label_img = label(opened_img,connectivity=2)\n",
    "n_labels = label_img.max()\n",
    "print(f\"Number of labels: {n_labels}\")\n",
    "\n",
    "region_props = regionprops(label_img)\n",
    "\n",
    "areas = np.array([prop.area for prop in region_props])\n",
    "\n",
    "\n",
    "\n",
    "\n",
    "# Selection based on the areas\n",
    "min_area = 1000\n",
    "max_area = 4000\n",
    "\n",
    "# Create a copy of the label_img\n",
    "label_img_filter = np.copy(label_img)\n",
    "for region in region_props:\n",
    "    # Find the areas that do not fit our criteria\n",
    "    if region.area > max_area or region.area < min_area:\n",
    "        # set the pixels in the invalid areas to background\n",
    "        for cords in region.coords:\n",
    "            label_img_filter[cords[0], cords[1]] = 0\n",
    "# Create binary image from the filtered label image\n",
    "\n",
    "image_selected_area = label_img_filter > 0\n",
    "\n",
    "plt.imshow(image_selected_area)\n"
   ]
  },
  {
   "cell_type": "code",
   "execution_count": null,
   "id": "5e6dbd31-584a-4eb8-82cc-a81789c08635",
   "metadata": {},
   "outputs": [],
   "source": []
  },
  {
   "cell_type": "code",
   "execution_count": null,
   "id": "764e3555-b68f-4719-bb7b-e1fa39110675",
   "metadata": {},
   "outputs": [],
   "source": []
  },
  {
   "cell_type": "code",
   "execution_count": null,
   "id": "ee28af21-461f-44ce-a3ee-42d5d35eb23c",
   "metadata": {},
   "outputs": [],
   "source": []
  },
  {
   "cell_type": "code",
   "execution_count": null,
   "id": "567437a4-99e3-4582-ad64-8f44ea352041",
   "metadata": {},
   "outputs": [],
   "source": []
  },
  {
   "cell_type": "code",
   "execution_count": null,
   "id": "c20779c8-653e-495a-83be-ad7451e6e75c",
   "metadata": {},
   "outputs": [],
   "source": []
  },
  {
   "cell_type": "code",
   "execution_count": null,
   "id": "a75974fe-bce9-45ae-8c4b-b209c1df1bf2",
   "metadata": {},
   "outputs": [],
   "source": []
  },
  {
   "cell_type": "code",
   "execution_count": null,
   "id": "ebc22d98-248d-419d-9d35-df7dac391e14",
   "metadata": {},
   "outputs": [],
   "source": []
  },
  {
   "cell_type": "code",
   "execution_count": null,
   "id": "bdecdd43-b865-4620-bd2b-cabd7050e638",
   "metadata": {},
   "outputs": [],
   "source": []
  },
  {
   "cell_type": "code",
   "execution_count": null,
   "id": "1ee5d955-fde5-408b-8d03-a9a2bcc985c5",
   "metadata": {},
   "outputs": [],
   "source": []
  },
  {
   "cell_type": "code",
   "execution_count": null,
   "id": "238d54ae-0240-4166-be69-615531e6a84b",
   "metadata": {},
   "outputs": [],
   "source": []
  },
  {
   "cell_type": "code",
   "execution_count": null,
   "id": "74dbec59-b056-496e-b72b-0efbe822fe8d",
   "metadata": {},
   "outputs": [],
   "source": []
  },
  {
   "cell_type": "code",
   "execution_count": null,
   "id": "eff1341d-babc-469a-a423-5df16126fba7",
   "metadata": {},
   "outputs": [],
   "source": []
  },
  {
   "cell_type": "code",
   "execution_count": null,
   "id": "6874102c-fd5e-468e-87ce-da45b97d54ff",
   "metadata": {},
   "outputs": [],
   "source": []
  },
  {
   "cell_type": "code",
   "execution_count": null,
   "id": "c45e8247-b529-47f9-886b-ca1f920d7be6",
   "metadata": {},
   "outputs": [],
   "source": []
  },
  {
   "cell_type": "code",
   "execution_count": null,
   "id": "09ca0531-fc26-4e74-a58c-c200c34cade9",
   "metadata": {},
   "outputs": [],
   "source": []
  },
  {
   "cell_type": "code",
   "execution_count": null,
   "id": "376ff34f-7b13-473c-941b-d2b7db09229d",
   "metadata": {},
   "outputs": [],
   "source": []
  },
  {
   "cell_type": "code",
   "execution_count": null,
   "id": "aed91773-c248-43b2-92b9-472f259afe20",
   "metadata": {},
   "outputs": [],
   "source": []
  },
  {
   "cell_type": "code",
   "execution_count": null,
   "id": "6f8ac8cb-e067-4d44-ba68-17f05c331366",
   "metadata": {},
   "outputs": [],
   "source": []
  },
  {
   "cell_type": "code",
   "execution_count": null,
   "id": "8ebace55-4ef8-4c78-a5db-79c5fa987d50",
   "metadata": {},
   "outputs": [],
   "source": []
  },
  {
   "cell_type": "code",
   "execution_count": null,
   "id": "daa5b00c-65c4-47b0-87f3-4a37032607d3",
   "metadata": {},
   "outputs": [],
   "source": []
  },
  {
   "cell_type": "code",
   "execution_count": null,
   "id": "edb079aa-59cb-4a26-b7b9-e7da1460a471",
   "metadata": {},
   "outputs": [],
   "source": []
  },
  {
   "cell_type": "code",
   "execution_count": null,
   "id": "a929fb06-d0d8-451d-8f01-5b522ea29935",
   "metadata": {},
   "outputs": [],
   "source": []
  },
  {
   "cell_type": "code",
   "execution_count": null,
   "id": "295d885c-f8f5-40f9-815f-ec3746fefe61",
   "metadata": {},
   "outputs": [],
   "source": []
  },
  {
   "cell_type": "code",
   "execution_count": null,
   "id": "5deab1de-c1d1-4f18-93d1-34cfb27aaf52",
   "metadata": {},
   "outputs": [],
   "source": []
  },
  {
   "cell_type": "code",
   "execution_count": null,
   "id": "570dbf3b-08f4-4059-9032-706b3742a770",
   "metadata": {},
   "outputs": [],
   "source": []
  },
  {
   "cell_type": "code",
   "execution_count": null,
   "id": "f573b205-cbbc-40cb-bd25-c1e6d434a4f2",
   "metadata": {},
   "outputs": [],
   "source": []
  },
  {
   "cell_type": "code",
   "execution_count": null,
   "id": "6fd33707-fde4-472c-939e-b95f5dd415d4",
   "metadata": {},
   "outputs": [],
   "source": []
  },
  {
   "cell_type": "code",
   "execution_count": null,
   "id": "b047e276-4db9-4923-b21f-b34c5db994c1",
   "metadata": {},
   "outputs": [],
   "source": []
  },
  {
   "cell_type": "code",
   "execution_count": null,
   "id": "d91010cf-e806-4ba8-9055-50b37cccc828",
   "metadata": {},
   "outputs": [],
   "source": []
  },
  {
   "cell_type": "code",
   "execution_count": null,
   "id": "06ca6c7c-4f71-4ff6-9037-30ea9140ec35",
   "metadata": {},
   "outputs": [],
   "source": []
  },
  {
   "cell_type": "code",
   "execution_count": null,
   "id": "a3d9024f-a0cb-436e-8dd7-8487d66d831f",
   "metadata": {},
   "outputs": [],
   "source": []
  },
  {
   "cell_type": "code",
   "execution_count": null,
   "id": "1ac279b5-fcd9-4e07-8f4b-3e4eb52eb64b",
   "metadata": {},
   "outputs": [],
   "source": []
  }
 ],
 "metadata": {
  "kernelspec": {
   "display_name": "Python 3 (ipykernel)",
   "language": "python",
   "name": "python3"
  },
  "language_info": {
   "codemirror_mode": {
    "name": "ipython",
    "version": 3
   },
   "file_extension": ".py",
   "mimetype": "text/x-python",
   "name": "python",
   "nbconvert_exporter": "python",
   "pygments_lexer": "ipython3",
   "version": "3.11.4"
  }
 },
 "nbformat": 4,
 "nbformat_minor": 5
}
