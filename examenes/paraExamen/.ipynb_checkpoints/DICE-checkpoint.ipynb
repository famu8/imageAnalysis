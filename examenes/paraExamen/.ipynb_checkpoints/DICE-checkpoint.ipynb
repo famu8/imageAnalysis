{
 "cells": [
  {
   "cell_type": "code",
   "execution_count": null,
   "id": "c480e0d4-cdc4-4440-82ca-2d495bd031e9",
   "metadata": {},
   "outputs": [],
   "source": [
    "# Dice similarity function\n",
    "def dice(pred, true, k = 1):\n",
    "    intersection = np.sum(pred[true==k]) * 2.0\n",
    "    dice = intersection / (np.sum(pred) + np.sum(true))\n",
    "    return dice\n",
    "\n",
    "dice_score = dice(img,kidney_roi, k = 1) #255 in my case, can be 1 \n",
    "print (\"Dice Similarity: {}\".format(dice_score))"
   ]
  }
 ],
 "metadata": {
  "kernelspec": {
   "display_name": "Python 3 (ipykernel)",
   "language": "python",
   "name": "python3"
  },
  "language_info": {
   "codemirror_mode": {
    "name": "ipython",
    "version": 3
   },
   "file_extension": ".py",
   "mimetype": "text/x-python",
   "name": "python",
   "nbconvert_exporter": "python",
   "pygments_lexer": "ipython3",
   "version": "3.11.4"
  }
 },
 "nbformat": 4,
 "nbformat_minor": 5
}
