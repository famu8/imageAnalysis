{
 "cells": [
  {
   "cell_type": "markdown",
   "id": "1041a297-3422-4c1a-ab14-bcccd52099c3",
   "metadata": {},
   "source": [
    "este de aqui abajo para obtener los valores \n",
    "de una serie de px segun las landmarks"
   ]
  },
  {
   "cell_type": "code",
   "execution_count": null,
   "id": "bdb1d33a-c423-4a24-9402-cae0e4beb02e",
   "metadata": {},
   "outputs": [],
   "source": [
    "import numpy as np\n",
    "import matplotlib.pyplot as plt\n",
    "from skimage import io, img_as_ubyte\n",
    "from skimage.transform import SimilarityTransform, warp,matrix_transform\n",
    "\n",
    "donald_1_path = r\"./data/Donald/donald_1.png\"\n",
    "donald_2_path = r\"./data/Donald/donald_2.png\"\n",
    "\n",
    "src_img = io.imread(donald_2_path)\n",
    "print(src_img.dtype)\n",
    "dst_img = io.imread(donald_1_path)\n",
    "\n",
    "from scipy.io import loadmat\n",
    "\n",
    "moving_path = r\"./data/Donald/donaldmovingPoints.mat\"\n",
    "fixed_path = r\"./data/Donald/donaldfixedPoints.mat\"\n",
    "\n",
    "# Load the .mat file\n",
    "moving_pts = loadmat(moving_path)\n",
    "\n",
    "# Access variables from the loaded data\n",
    "variable_name = 'movingPoints'\n",
    "moving_pts = moving_pts[variable_name]\n",
    "\n",
    "# Load the .mat file\n",
    "fixed_pts = loadmat(fixed_path)\n",
    "print(fixed_pts)\n",
    "# Access variables from the loaded data\n",
    "variable_name = 'fixedPoints'\n",
    "fixed_pts = fixed_pts[variable_name]\n",
    "\n",
    "# source\n",
    "#moving_pts = np.array([[208.297427652733, 66.8183279742764], [129.519292604502, 131.127009646302], [45.1141479099678, 206.689710610932], [265.371382636656, 455.885852090032], [352.188102893891, 382.734726688103], [441.416398713826, 307.975884244373]])\n",
    "# Destination\n",
    "#fixed_pts = np.array([[363.442122186495, 58.7797427652732], [235.628617363344, 60.3874598070739], [112.638263665595, 63.6028938906752], [101.384244372990, 447.043408360129], [225.982315112540, 450.258842443730], [368.265273311897, 454.278135048232]])\n",
    "\n",
    "tform = SimilarityTransform()\n",
    "tform.estimate(moving_pts, fixed_pts)\n",
    "src_transform = matrix_transform(moving_pts, tform.params)\n",
    "\n",
    "# The found transform can be applied to the source image\n",
    "warped = warp(src_img, tform.inverse)\n",
    "\n",
    "def show_comparison(original, transformed, transformed_name):\n",
    "    fig, (ax1, ax2) = plt.subplots(ncols=2, figsize=(8, 4), sharex=True, sharey=True)\n",
    "    ax1.imshow(original)\n",
    "    ax1.set_title('Original')\n",
    "    ax1.axis('off')\n",
    "    ax2.imshow(transformed)\n",
    "    ax2.set_title(transformed_name)\n",
    "    ax2.axis('off')\n",
    "    plt.show()\n",
    "\n",
    "show_comparison(src_img, warped, 'Landmark based transformation')\n",
    "\n",
    "# Get the RGB value at position (row=300, column=300) in the transformed image\n",
    "# Assuming img contains pixel values in the range [0, 1]\n",
    "rgb_value = warped[299, 299]\n",
    "print(rgb_value)\n",
    "print(warped.dtype)\n",
    "\n",
    "# Convert the transformed image to uint8 format\n",
    "donald2t_uint8 = img_as_ubyte(warped)\n",
    "\n",
    "# Extract the RGB values at the specified pixel location\n",
    "row = 299  # 0-based coordinate\n",
    "column = 299  # 0-based coordinate\n",
    "\n",
    "resR = donald2t_uint8[row, column, 0]\n",
    "resG = donald2t_uint8[row, column, 1]\n",
    "resB = donald2t_uint8[row, column, 2]\n",
    "\n",
    "print(f\"Red: {resR}, Green: {resG}, Blue: {resB}\")"
   ]
  },
  {
   "cell_type": "markdown",
   "id": "c6378c89-a553-4b8a-8783-413cb751f70b",
   "metadata": {},
   "source": [
    "este de aqui abajo para obtener la distancia euclidea\n",
    "de unas landmarks"
   ]
  },
  {
   "cell_type": "code",
   "execution_count": null,
   "id": "365cfd7e-89f3-431c-a36e-7bf7a58bb4d6",
   "metadata": {},
   "outputs": [],
   "source": [
    "moving_mean = np.mean(moving_pts)\n",
    "fixed_mean = np.mean(fixed_pts)\n",
    "\n",
    "# calculating Euclidean distance\n",
    "# using linalg.norm()\n",
    "dist = np.sqrt(moving_mean-fixed_mean)**2\n",
    "print(dist)"
   ]
  }
 ],
 "metadata": {
  "kernelspec": {
   "display_name": "Python 3 (ipykernel)",
   "language": "python",
   "name": "python3"
  },
  "language_info": {
   "codemirror_mode": {
    "name": "ipython",
    "version": 3
   },
   "file_extension": ".py",
   "mimetype": "text/x-python",
   "name": "python",
   "nbconvert_exporter": "python",
   "pygments_lexer": "ipython3",
   "version": "3.11.4"
  }
 },
 "nbformat": 4,
 "nbformat_minor": 5
}
