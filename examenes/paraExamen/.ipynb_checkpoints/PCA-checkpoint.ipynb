{
 "cells": [
  {
   "cell_type": "code",
   "execution_count": 1,
   "id": "26f9ab6e-f79c-4bb1-ae76-5d70f5740f96",
   "metadata": {},
   "outputs": [],
   "source": [
    "import numpy as np \n",
    "import matplotlib.pyplot as plt\n",
    "import pandas as pd"
   ]
  },
  {
   "cell_type": "code",
   "execution_count": 2,
   "id": "629f4d73-de6a-46c9-a713-26c5fe335272",
   "metadata": {
    "tags": []
   },
   "outputs": [],
   "source": [
    "import numpy as np\n",
    "import seaborn as sns\n",
    "import pandas as pd\n",
    "import matplotlib.pyplot as plt\n",
    "in_dir=\"./data\"\n",
    "txt_name=\"/irisdata.txt\"\n",
    "data = np.loadtxt(in_dir + txt_name, comments=\"%\")"
   ]
  },
  {
   "cell_type": "code",
   "execution_count": 9,
   "id": "1162358d-9f26-480b-8907-b2a1414151b6",
   "metadata": {
    "tags": []
   },
   "outputs": [],
   "source": [
    "data_iris = data[0:150, 0:4]\n",
    "#cambiamos la data porque la 5 columna es el tipo de flor"
   ]
  },
  {
   "cell_type": "code",
   "execution_count": 10,
   "id": "0111e875-aa40-42d5-a67c-b684bf02cb03",
   "metadata": {
    "tags": []
   },
   "outputs": [
    {
     "data": {
      "text/plain": [
       "(150, 4)"
      ]
     },
     "execution_count": 10,
     "metadata": {},
     "output_type": "execute_result"
    }
   ],
   "source": [
    "data_iris.shape"
   ]
  },
  {
   "cell_type": "markdown",
   "id": "37100e24-24a9-4e9c-b494-326633744996",
   "metadata": {},
   "source": [
    "# PCA"
   ]
  },
  {
   "cell_type": "code",
   "execution_count": 11,
   "id": "b344a507-b74e-4bec-9549-8f9b9fc0bd42",
   "metadata": {
    "tags": []
   },
   "outputs": [],
   "source": [
    "from sklearn.decomposition import PCA\n",
    "from sklearn.datasets import load_iris\n",
    "import matplotlib.pyplot as plt"
   ]
  },
  {
   "cell_type": "code",
   "execution_count": 12,
   "id": "240f4942-7b6d-4c24-b93d-d559861888fe",
   "metadata": {
    "tags": []
   },
   "outputs": [
    {
     "name": "stdout",
     "output_type": "stream",
     "text": [
      "[0.92461872 0.05306648 0.01710261 0.00521218]\n",
      "The first two principal components explain 100.00% of the total variation.\n"
     ]
    }
   ],
   "source": [
    "# aqui elige le numero de PCA que quieres\n",
    "# n_components=2\n",
    "pca = PCA()\n",
    "pca.fit(data_iris)\n",
    "\n",
    "# plt.plot(pca.explained_variance_ratio_)\n",
    "# plt.show()\n",
    "\n",
    "mn = np.mean(data_iris, axis=0)\n",
    "x = data_iris-mn\n",
    "\n",
    "explained_variance_ratio  = pca.explained_variance_ratio_\n",
    "\n",
    "vectors_2 = pca.components_\n",
    "# AQUI ABAJO ESTAN LOS PCA SI TE PIDE LO DOS PRIMERO PUES SUMAS LOS DOS PRIMEROS ETC...\n",
    "print(explained_variance_ratio)\n",
    "\n",
    "percentage_explained = sum(explained_variance_ratio) * 100\n",
    "\n",
    "print(f\"The first two principal components explain {percentage_explained:.2f}% of the total variation.\")\n",
    "\n",
    "# This is transposed compared to \"pc_proj\" above\n",
    "data_transform = pca.transform(x)"
   ]
  },
  {
   "cell_type": "code",
   "execution_count": 13,
   "id": "3839b3ea-5971-4d13-bf02-ed5bf3bd18e6",
   "metadata": {},
   "outputs": [
    {
     "name": "stdin",
     "output_type": "stream",
     "text": [
      "Introduce el número de la flor que deseas estudiar (1-150):  1\n"
     ]
    },
    {
     "name": "stdout",
     "output_type": "stream",
     "text": [
      "Projected values of flower 1 in PCA space: [[-2.68412563e+00  3.19397247e-01 -2.79148276e-02 -2.26243707e-03]]\n"
     ]
    }
   ],
   "source": [
    "# Función para proyectar los datos de una flor en el espacio PCA\n",
    "def project_flower_data(data, flower_number, pca_model):\n",
    "    # Selecciona los datos de la flor especificada por 'flower_number'\n",
    "    flower_data = data[flower_number - 1, :].reshape(1, -1)\n",
    "\n",
    "    # Proyecta los datos de la flor en el espacio PCA\n",
    "    projected_data = pca_model.transform(flower_data)\n",
    "    \n",
    "    return projected_data\n",
    "\n",
    "# Solicitar al usuario el número de la flor que desea estudiar\n",
    "flower_number = int(input(\"Introduce el número de la flor que deseas estudiar (1-150): \"))\n",
    "\n",
    "if 1 <= flower_number <= 150:\n",
    "    # Llama a la función para proyectar los datos de la flor seleccionada\n",
    "    projected_data = project_flower_data(data_iris, flower_number, pca)\n",
    "\n",
    "    # Muestra los valores proyectados en el espacio PCA\n",
    "    print(f\"Projected values of flower {flower_number} in PCA space: {projected_data}\")\n",
    "else:\n",
    "    print(\"Número de flor fuera del rango válido (1-150).\")\n"
   ]
  },
  {
   "cell_type": "markdown",
   "id": "073c1e75-e5e6-4231-b3b7-39a288552a45",
   "metadata": {},
   "source": [
    "# para IMAGENES"
   ]
  },
  {
   "cell_type": "code",
   "execution_count": null,
   "id": "d507da69-5060-4f6a-9680-790c9947e872",
   "metadata": {},
   "outputs": [],
   "source": [
    "def explained_variance_by_components(imagenes, num_componentes):\n",
    "    \"\"\"\n",
    "    Calcula la variación total explicada por un número dado de componentes principales.\n",
    "\n",
    "    :param imagenes: Una matriz donde cada columna es una imagen.\n",
    "    :param num_componentes: El número de componentes principales para estudiar.\n",
    "    :return: La variación total explicada por los componentes principales especificados.\n",
    "    \"\"\"\n",
    "    pca = PCA(n_components=num_componentes)\n",
    "    pca.fit(imagenes)\n",
    "\n",
    "    variacion_total_explicada = np.sum(pca.explained_variance_ratio_)\n",
    "\n",
    "    return variacion_total_explicada\n",
    "\n",
    "ruta_base = './data/car'\n",
    "extension = '.jpg'\n",
    "imagenes_grises = []\n",
    "\n",
    "# //////////////////convertir la iamgen a un stack de imagenes////////////////////////\n",
    "for i in range(1, 6):\n",
    "    ruta_imagen = ruta_base + str(i) + extension\n",
    "    imagen = cv2.imread(ruta_imagen, cv2.IMREAD_GRAYSCALE)\n",
    "    imagenes_grises.append(imagen)\n",
    "matriz_imagenes = np.column_stack([imagen.flatten() for imagen in imagenes_grises])\n",
    "# //////////////////////////////////////////////\n",
    "\n",
    "num_componentes = 1  # Número de componentes principales a estudiar\n",
    "variacion_total = explained_variance_by_components(matriz_imagenes, num_componentes)\n",
    "\n",
    "print(f\"Variación total explicada por {num_componentes} componentes principales: {variacion_total:.2%}\")"
   ]
  },
  {
   "cell_type": "code",
   "execution_count": null,
   "id": "48117df4-5aa5-418a-bff9-9aaef52ac5b4",
   "metadata": {},
   "outputs": [],
   "source": []
  },
  {
   "cell_type": "code",
   "execution_count": null,
   "id": "5c660138-16fc-417e-9d25-634aad0438c6",
   "metadata": {},
   "outputs": [],
   "source": []
  },
  {
   "cell_type": "code",
   "execution_count": null,
   "id": "54fac97f-a4ff-4720-9d59-a9443584d312",
   "metadata": {},
   "outputs": [],
   "source": []
  },
  {
   "cell_type": "code",
   "execution_count": null,
   "id": "7fe6d4c0-1508-428a-ad26-0a067f3e4162",
   "metadata": {},
   "outputs": [],
   "source": []
  }
 ],
 "metadata": {
  "kernelspec": {
   "display_name": "Python 3 (ipykernel)",
   "language": "python",
   "name": "python3"
  },
  "language_info": {
   "codemirror_mode": {
    "name": "ipython",
    "version": 3
   },
   "file_extension": ".py",
   "mimetype": "text/x-python",
   "name": "python",
   "nbconvert_exporter": "python",
   "pygments_lexer": "ipython3",
   "version": "3.11.4"
  }
 },
 "nbformat": 4,
 "nbformat_minor": 5
}
