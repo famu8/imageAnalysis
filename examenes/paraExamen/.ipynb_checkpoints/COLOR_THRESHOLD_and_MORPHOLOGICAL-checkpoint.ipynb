{
 "cells": [
  {
   "cell_type": "code",
   "execution_count": 2,
   "id": "d353120c-0948-45bb-a4ea-fdd43fd7b425",
   "metadata": {
    "tags": []
   },
   "outputs": [],
   "source": [
    "import numpy as np\n",
    "import seaborn as sns\n",
    "import pandas as pd\n",
    "import matplotlib.pyplot as plt\n",
    "\n",
    "from sklearn.decomposition import PCA\n",
    "from sklearn.datasets import load_iris\n",
    "import matplotlib.pyplot as plt\n",
    "import numpy as np \n",
    "import matplotlib.pyplot as plt\n",
    "import pandas as pd\n",
    "#pip install scikit-image\n",
    "from skimage import color, io, measure, img_as_ubyte\n",
    "from skimage.measure import profile_line\n",
    "from skimage.transform import rescale, resize\n",
    "import matplotlib.pyplot as plt\n",
    "import numpy as np\n",
    "import pydicom as dicom\n",
    "import cv2 as cv\n",
    "from skimage.util import img_as_float\n",
    "from skimage.util import img_as_ubyte\n",
    "import skimage as ski\n",
    "import numpy as np\n",
    "from scipy.ndimage import correlate\n",
    "import matplotlib.pyplot as plt\n",
    "import seaborn as sns\n",
    "#pip install scikit-image\n",
    "from skimage import color, io, measure, img_as_ubyte\n",
    "from skimage.measure import profile_line\n",
    "from skimage.transform import rescale, resize\n",
    "import matplotlib.pyplot as plt\n",
    "import numpy as np\n",
    "import pydicom as dicom\n",
    "import cv2 as cv2\n",
    "from skimage.util import img_as_float\n",
    "from skimage.util import img_as_ubyte\n",
    "import skimage as ski\n",
    "from skimage.filters import median\n",
    "from skimage.filters import gaussian\n",
    "from skimage.filters import prewitt_h\n",
    "from skimage.filters import prewitt_v\n",
    "from skimage.filters import prewitt\n",
    "\n",
    "\n",
    "from skimage.morphology import erosion, dilation, opening, closing\n",
    "from skimage.morphology import disk \n",
    "\n",
    "from skimage.filters import threshold_otsu\n",
    "\n",
    "\n",
    "import numpy as np\n",
    "import skimage.io as io\n",
    "from skimage.color import rgb2gray\n",
    "from skimage.filters import threshold_otsu\n",
    "from skimage.morphology import erosion, dilation, opening, closing\n",
    "from skimage.morphology import disk \n",
    "import matplotlib.pyplot as plt\n",
    "\n",
    "\n",
    "from ipynb.fs.full.toolbox import *\n",
    "\n",
    "import numpy as np\n",
    "from scipy.ndimage import correlate\n",
    "import matplotlib.pyplot as plt\n",
    "import seaborn as sns\n",
    "#pip install scikit-image\n",
    "from skimage import color, io, measure, img_as_ubyte\n",
    "from skimage.measure import profile_line\n",
    "from skimage.transform import rescale, resize\n",
    "import matplotlib.pyplot as plt\n",
    "import numpy as np\n",
    "import pydicom as dicom\n",
    "import cv2 as cv2\n",
    "from skimage.util import img_as_float\n",
    "from skimage.util import img_as_ubyte\n",
    "import skimage as ski\n",
    "from skimage.filters import median\n",
    "from skimage.filters import gaussian\n",
    "from skimage.filters import prewitt_h\n",
    "from skimage.filters import prewitt_v\n",
    "from skimage.filters import prewitt\n",
    "\n",
    "\n",
    "from skimage.morphology import erosion, dilation, opening, closing\n",
    "from skimage.morphology import disk \n",
    "\n",
    "from skimage.filters import threshold_otsu\n",
    "\n",
    "\n",
    "import numpy as np\n",
    "import skimage.io as io\n",
    "from skimage.color import rgb2gray\n",
    "from skimage.filters import threshold_otsu\n",
    "from skimage.morphology import erosion, dilation, opening, closing\n",
    "from skimage.morphology import disk \n",
    "import matplotlib.pyplot as plt\n",
    "\n",
    "# UNA IMAGEN de entrada que DE COLOR (NO BINARIA)\n",
    "# TE VAN A DAR LS LIMITES EN EL ENUNCIADO TIENES QUE CREARLOS TU \n",
    "\n",
    "\n",
    "def detect_colors_image(img_in):\n",
    "    r_comp = img_in[:, :, 0]\n",
    "    g_comp = img_in[:, :, 1]\n",
    "    b_comp = img_in[:, :, 2]\n",
    "    segm = (r_comp > 0) & (r_comp < 100) & (g_comp > 85) & (g_comp < 200) & \\\n",
    "                    (b_comp > 150) & (b_comp < 255)\n",
    "\n",
    "    return img_as_ubyte(segm)"
   ]
  },
  {
   "cell_type": "code",
   "execution_count": 3,
   "id": "f07dfb7b-041a-4451-a6d0-7caf82e40c85",
   "metadata": {
    "tags": []
   },
   "outputs": [
    {
     "ename": "NameError",
     "evalue": "name 'im_sky' is not defined",
     "output_type": "error",
     "traceback": [
      "\u001b[1;31m---------------------------------------------------------------------------\u001b[0m",
      "\u001b[1;31mNameError\u001b[0m                                 Traceback (most recent call last)",
      "Cell \u001b[1;32mIn[3], line 1\u001b[0m\n\u001b[1;32m----> 1\u001b[0m img_th \u001b[38;5;241m=\u001b[39m detect_colors_image(im_sky)\n\u001b[0;32m      2\u001b[0m io\u001b[38;5;241m.\u001b[39mimshow(img_th)\n",
      "\u001b[1;31mNameError\u001b[0m: name 'im_sky' is not defined"
     ]
    }
   ],
   "source": [
    "img_th = detect_colors_image(im_sky)\n",
    "io.imshow(img_th)"
   ]
  },
  {
   "cell_type": "code",
   "execution_count": null,
   "id": "b139a886-0393-4e20-9e64-dd99e5f37db0",
   "metadata": {},
   "outputs": [],
   "source": [
    "def apply_erosion(binary, disk_sz):\n",
    "    footprint = disk(disk_sz)\n",
    "    eroded = erosion(binary, footprint)\n",
    "    return eroded\n",
    "\n",
    "def apply_dilation(binary, disk_sz):\n",
    "    footprint = disk(disk_sz)\n",
    "    dilated = dilation(binary, footprint)\n",
    "    return dilated\n",
    "\n",
    "def apply_opening(binary, disk_sz):\n",
    "    footprint = disk(disk_sz)\n",
    "    opened = opening(binary, footprint)\n",
    "    return opened\n",
    "\n",
    "def apply_closing(binary, disk_sz):\n",
    "    footprint = disk(disk_sz)\n",
    "    closed = closing(binary, footprint)\n",
    "    return closed"
   ]
  },
  {
   "cell_type": "code",
   "execution_count": null,
   "id": "3b477cc5-59fe-4cef-b528-84c62c71dd9f",
   "metadata": {},
   "outputs": [],
   "source": [
    "img_eroded = apply_erosion(img_th, 5)\n",
    "io.imshow(img_eroded)"
   ]
  },
  {
   "cell_type": "code",
   "execution_count": null,
   "id": "aeba9059-57ea-4f58-b015-71910bcbdc33",
   "metadata": {},
   "outputs": [],
   "source": [
    "def hsv_detection(im):\n",
    "    hsv_img = color.rgb2hsv(im)\n",
    "\n",
    "    hue_img = hsv_img[:, :, 0]\n",
    "    sat_img = hsv_img[:, :, 1]\n",
    "    value_img = hsv_img[:, :, 2]\n",
    "\n",
    "    segm = (hue_img > 0) & (hue_img < 0.25) & (sat_img > 0.8) & \\\n",
    "                    (value_img > 0.8)\n",
    "\n",
    "    return img_as_ubyte(segm)"
   ]
  },
  {
   "cell_type": "code",
   "execution_count": null,
   "id": "8ad546be-1b91-40c9-adca-19c2fe226a63",
   "metadata": {},
   "outputs": [],
   "source": []
  },
  {
   "cell_type": "code",
   "execution_count": null,
   "id": "12b75b34-6239-47d3-a237-13d4075bc3b8",
   "metadata": {},
   "outputs": [],
   "source": []
  },
  {
   "cell_type": "code",
   "execution_count": null,
   "id": "9c667653-1d31-4f56-b975-c60127f3df38",
   "metadata": {},
   "outputs": [],
   "source": []
  },
  {
   "cell_type": "code",
   "execution_count": null,
   "id": "a53e956e-56c2-4143-988e-c67087e79fd7",
   "metadata": {},
   "outputs": [],
   "source": []
  },
  {
   "cell_type": "code",
   "execution_count": null,
   "id": "8fd87a3c-7d9c-4b66-afb3-23ba221bf21f",
   "metadata": {},
   "outputs": [],
   "source": []
  },
  {
   "cell_type": "code",
   "execution_count": null,
   "id": "40c170cc-1444-43bc-81ea-f777cd9c43b2",
   "metadata": {},
   "outputs": [],
   "source": []
  }
 ],
 "metadata": {
  "kernelspec": {
   "display_name": "Python 3 (ipykernel)",
   "language": "python",
   "name": "python3"
  },
  "language_info": {
   "codemirror_mode": {
    "name": "ipython",
    "version": 3
   },
   "file_extension": ".py",
   "mimetype": "text/x-python",
   "name": "python",
   "nbconvert_exporter": "python",
   "pygments_lexer": "ipython3",
   "version": "3.11.4"
  }
 },
 "nbformat": 4,
 "nbformat_minor": 5
}
