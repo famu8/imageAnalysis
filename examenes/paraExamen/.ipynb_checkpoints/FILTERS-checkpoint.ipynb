{
 "cells": [
  {
   "cell_type": "code",
   "execution_count": null,
   "id": "c029ed20-d02d-4a5e-adfb-b99f6ee86e51",
   "metadata": {
    "tags": []
   },
   "outputs": [],
   "source": [
    "import numpy as np \n",
    "import matplotlib.pyplot as plt\n",
    "import pandas as pd\n",
    "#pip install scikit-image\n",
    "from skimage import color, io, measure, img_as_ubyte\n",
    "from skimage.measure import profile_line\n",
    "from skimage.transform import rescale, resize\n",
    "import matplotlib.pyplot as plt\n",
    "import numpy as np\n",
    "import pydicom as dicom\n",
    "import cv2 as cv\n",
    "from skimage.util import img_as_float\n",
    "from skimage.util import img_as_ubyte\n",
    "import skimage as ski\n",
    "import numpy as np\n",
    "from scipy.ndimage import correlate\n",
    "import matplotlib.pyplot as plt\n",
    "import seaborn as sns\n",
    "#pip install scikit-image\n",
    "from skimage import color, io, measure, img_as_ubyte\n",
    "from skimage.measure import profile_line\n",
    "from skimage.transform import rescale, resize\n",
    "import matplotlib.pyplot as plt\n",
    "import numpy as np\n",
    "import pydicom as dicom\n",
    "import cv2 as cv2\n",
    "from skimage.util import img_as_float\n",
    "from skimage.util import img_as_ubyte\n",
    "import skimage as ski\n",
    "from skimage.filters import median\n",
    "from skimage.filters import gaussian\n",
    "from skimage.filters import prewitt_h\n",
    "from skimage.filters import prewitt_v\n",
    "from skimage.filters import prewitt\n",
    "\n",
    "\n",
    "from skimage.morphology import erosion, dilation, opening, closing\n",
    "from skimage.morphology import disk \n",
    "\n",
    "from skimage.filters import threshold_otsu\n",
    "\n",
    "\n",
    "import numpy as np\n",
    "import skimage.io as io\n",
    "from skimage.color import rgb2gray\n",
    "from skimage.filters import threshold_otsu\n",
    "from skimage.morphology import erosion, dilation, opening, closing\n",
    "from skimage.morphology import disk \n",
    "import matplotlib.pyplot as plt\n",
    "\n",
    "\n",
    "from ipynb.fs.full.toolbox import *"
   ]
  },
  {
   "cell_type": "code",
   "execution_count": null,
   "id": "7371c6e9-d15f-4075-a0f9-1a26923850df",
   "metadata": {
    "tags": []
   },
   "outputs": [],
   "source": [
    "in_dir = \"./data\"\n",
    "im_name = \"/sky_gray.jpg\"\n",
    "im = io.imread(in_dir + im_name)\n",
    "im_gray = rgb2gray(im)\n",
    "im_gray = img_as_ubyte(im_gray) #para tenerla en uint8"
   ]
  },
  {
   "cell_type": "markdown",
   "id": "b5cce400-c283-49eb-9e78-28cd94098858",
   "metadata": {
    "jp-MarkdownHeadingCollapsed": true,
    "tags": []
   },
   "source": [
    "# MEDIAN FILTER"
   ]
  },
  {
   "cell_type": "code",
   "execution_count": null,
   "id": "6c306a6d-0c10-4342-8d85-8c997f899d55",
   "metadata": {
    "tags": []
   },
   "outputs": [],
   "source": [
    "#TA\n",
    "def apply_median_filter(img, size):\n",
    "    footprint = np.ones([size, size])\n",
    "    med_img = median(img, footprint)\n",
    "    return med_img"
   ]
  },
  {
   "cell_type": "code",
   "execution_count": null,
   "id": "86334ddb-bd2b-453d-b1fe-541be55950ed",
   "metadata": {
    "tags": []
   },
   "outputs": [],
   "source": [
    "med_img = apply_median_filter(im_gray, 10)\n",
    "plot_comparison(im_gray, med_img, 'filtro mediana')"
   ]
  },
  {
   "cell_type": "code",
   "execution_count": null,
   "id": "ad263e0a-8b80-4ab9-ac25-fbeb548d3520",
   "metadata": {},
   "outputs": [],
   "source": [
    "# si te piden el valor de un px en un sistema 1-based, como estamos en \n",
    "# python tienes que restarle 1, si te dicen 0 based no hagas nada\n",
    "pixel_value = median5[40 - 1, 50 - 1]\n",
    "print(pixel_value)"
   ]
  },
  {
   "cell_type": "markdown",
   "id": "269e9f43-2126-44a7-9357-3e323a781133",
   "metadata": {
    "tags": []
   },
   "source": [
    "# MEAN FILTER\n"
   ]
  },
  {
   "cell_type": "code",
   "execution_count": null,
   "id": "c44fc89f-5556-40f6-b030-c759337f9c95",
   "metadata": {
    "tags": []
   },
   "outputs": [],
   "source": [
    "def apply_mean_filter(img, size):\n",
    "    weights = np.ones([size, size])\n",
    "    weights = weights / np.sum(weights)\n",
    "    out_img = correlate(img, weights, mode='reflect')\n",
    "    return out_img"
   ]
  },
  {
   "cell_type": "code",
   "execution_count": null,
   "id": "9cbb7233-e730-45e8-87a2-d177d82e84f2",
   "metadata": {
    "tags": []
   },
   "outputs": [],
   "source": [
    "outimg=apply_mean_filter(im_gray,5)\n",
    "plot_comparison(im_gray,outimg,'media')"
   ]
  },
  {
   "cell_type": "markdown",
   "id": "11608284-066b-4f9e-abda-4c4b8e57b1ec",
   "metadata": {
    "jp-MarkdownHeadingCollapsed": true,
    "tags": []
   },
   "source": [
    "# GAUSSIAN FILTER"
   ]
  },
  {
   "cell_type": "code",
   "execution_count": null,
   "id": "d86f5652-aae3-4f21-875d-7c47ccfa2ba5",
   "metadata": {
    "tags": []
   },
   "outputs": [],
   "source": [
    "def apply_gauss_filter(im, sigma):\n",
    "    gauss_img = gaussian(im, sigma)\n",
    "    return gauss_img"
   ]
  },
  {
   "cell_type": "code",
   "execution_count": null,
   "id": "15857d78-151f-4f71-a07a-5eb4ebcb6a80",
   "metadata": {
    "tags": []
   },
   "outputs": [],
   "source": [
    "gauss_img = apply_gauss_filter(im_gray, 5)\n",
    "plot_comparison(im_gray, gauss_img, 'filtro gauss' )"
   ]
  },
  {
   "cell_type": "code",
   "execution_count": null,
   "id": "1b3a2cf6-430f-430e-8587-ca518bb78a72",
   "metadata": {
    "tags": []
   },
   "outputs": [],
   "source": [
    "row_and_column(gauss_img, 70, 10)"
   ]
  },
  {
   "cell_type": "markdown",
   "id": "d6c194c6-0d6d-44a6-9812-3a48d0a3bf1b",
   "metadata": {},
   "source": [
    "# EDGE FILTERS"
   ]
  },
  {
   "cell_type": "markdown",
   "id": "bec74581-6c50-4ec9-9988-710718ad735c",
   "metadata": {
    "jp-MarkdownHeadingCollapsed": true,
    "tags": []
   },
   "source": [
    "## PREWITT H AND V"
   ]
  },
  {
   "cell_type": "code",
   "execution_count": null,
   "id": "13b1fd54-cf10-45ad-a8c8-7ebf95f45773",
   "metadata": {
    "tags": []
   },
   "outputs": [],
   "source": [
    "# horizontal \n",
    "hor_edg = prewitt_h(im_gray)\n",
    "# vertical\n",
    "ver_edg = prewitt_v(im_gray)\n",
    "\n",
    "plot_comparison(hor_edg, ver_edg, 'horizontal vs vertical')"
   ]
  },
  {
   "cell_type": "code",
   "execution_count": null,
   "id": "afd897b5-6b79-4d5b-b945-321fd27c40cf",
   "metadata": {
    "tags": []
   },
   "outputs": [],
   "source": [
    "# todos los bordes sin importar la orientacion \n",
    "edg = prewitt(im_gray)\n",
    "io.imshow(edg, cmap='gray')"
   ]
  },
  {
   "cell_type": "markdown",
   "id": "09f395ef-7d13-4208-89ea-9325c22a5c44",
   "metadata": {},
   "source": [
    "## EDGE DETECTION"
   ]
  },
  {
   "cell_type": "code",
   "execution_count": null,
   "id": "7677432f-87a4-474f-89ab-8d7d5eeb1ece",
   "metadata": {
    "tags": []
   },
   "outputs": [],
   "source": [
    "img_org = io.imread('data/ElbowCTSlice.png')\n",
    "io.imshow(img_org)\n",
    "\n",
    "\n",
    "# no funcoina lo de aqui abajo!!!!!!!!!!!!!!!!!!!!!!!!!!!!!!!!"
   ]
  },
  {
   "cell_type": "code",
   "execution_count": null,
   "id": "3f548841-8902-4189-b0d1-7317d2cc292d",
   "metadata": {
    "tags": []
   },
   "outputs": [],
   "source": [
    "def edge_detection(img, filter_type, kernel_size, thres, plot = False):\n",
    "    '''\n",
    "    img: (2D ndarray)\n",
    "    filter_type: (str) 'gaussian' or 'median'\n",
    "    kernel_size: (int) size of the smoothing filter\n",
    "    thres: (float) threshold for the binarization\n",
    "    plot: (bool) whether plot the images. Default False.\n",
    "    '''\n",
    "\n",
    "    if filter_type == 'gaussian':\n",
    "        img_filt = gaussian(img, kernel_size)\n",
    "    elif filter_type == 'median':\n",
    "        img_filt = apply_median_filter(img, kernel_size)\n",
    "\n",
    "    gradients = prewitt(img_filt)\n",
    "    edges = gradients > thres\n",
    "\n",
    "    if plot:\n",
    "        fig, ax = plt.subplots(nrows = 1, ncols = 3, figsize = (10,5))\n",
    "        ax[0].imshow(img_filt, cmap = 'gray')\n",
    "        ax[1].imshow(gradients, cmap = 'gray')\n",
    "        ax[2].imshow(edges, cmap = 'gray')\n",
    "        [ax_.set_axis_off() for ax_ in ax]\n",
    "        plt.show()\n",
    "\n",
    "    return edges"
   ]
  },
  {
   "cell_type": "code",
   "execution_count": null,
   "id": "588ca54c-dc32-4d94-924c-659e5cec1cbb",
   "metadata": {
    "tags": []
   },
   "outputs": [],
   "source": [
    "# edges = edge_detection(img_org, 'median', 5, 0.05, True)\n",
    "edges = edge_detection(img_org, 'gaussian', 5, 0.02, True)"
   ]
  },
  {
   "cell_type": "code",
   "execution_count": null,
   "id": "b3acf5c3-b626-4068-8bb3-23436a250738",
   "metadata": {},
   "outputs": [],
   "source": []
  },
  {
   "cell_type": "code",
   "execution_count": null,
   "id": "2ce7c6c4-e3c1-4db3-8f24-944f664a7224",
   "metadata": {},
   "outputs": [],
   "source": []
  },
  {
   "cell_type": "code",
   "execution_count": null,
   "id": "70face0b-d113-4f22-b06b-151ed44fe517",
   "metadata": {},
   "outputs": [],
   "source": []
  }
 ],
 "metadata": {
  "kernelspec": {
   "display_name": "Python 3 (ipykernel)",
   "language": "python",
   "name": "python3"
  },
  "language_info": {
   "codemirror_mode": {
    "name": "ipython",
    "version": 3
   },
   "file_extension": ".py",
   "mimetype": "text/x-python",
   "name": "python",
   "nbconvert_exporter": "python",
   "pygments_lexer": "ipython3",
   "version": "3.11.4"
  }
 },
 "nbformat": 4,
 "nbformat_minor": 5
}
