{
 "cells": [
  {
   "cell_type": "code",
   "execution_count": 2,
   "id": "67a610e7-7865-4d90-8ba7-9d12f81ad283",
   "metadata": {
    "tags": []
   },
   "outputs": [],
   "source": [
    "from skimage import io, color\n",
    "from skimage.morphology import binary_closing, binary_opening\n",
    "from skimage.morphology import disk\n",
    "import matplotlib.pyplot as plt\n",
    "import numpy as np\n",
    "from skimage import measure\n",
    "from skimage.color import label2rgb\n",
    "import pydicom as dicom\n",
    "from scipy.stats import norm\n",
    "from scipy.spatial import distance\n",
    "from skimage.measure import perimeter, perimeter_crofton\n",
    "from skimage.transform import rotate\n",
    "from scipy.optimize import fsolve\n",
    "\n",
    "\n",
    "\n",
    "def show_comparison(original, modified, modified_name):\n",
    "    fig, (ax1, ax2) = plt.subplots(ncols=2, figsize=(8, 4), sharex=True,\n",
    "                                   sharey=True)\n",
    "    ax1.imshow(original, cmap=\"gray\", vmin=-200, vmax=500)\n",
    "    ax1.set_title('Original')\n",
    "    ax1.axis('off')\n",
    "    ax2.imshow(modified, cmap=\"gray\")\n",
    "    ax2.set_title(modified_name)\n",
    "    ax2.axis('off')\n",
    "    io.show()"
   ]
  },
  {
   "cell_type": "code",
   "execution_count": null,
   "id": "0347484c-e720-4287-9d49-b15fe09e9719",
   "metadata": {},
   "outputs": [],
   "source": [
    "# DEFINE CUALQUIER IMAGEN DA IGUAL\n",
    "in_dir = \"data/\"\n",
    "ct = dicom.read_file(in_dir + 'Training.dcm')\n",
    "img = ct.pixel_array\n",
    "print(img.shape)\n",
    "print(img.dtype)"
   ]
  },
  {
   "cell_type": "code",
   "execution_count": null,
   "id": "4e1f7715-8eb4-4c48-9838-00d9f81d6dfb",
   "metadata": {},
   "outputs": [],
   "source": [
    "in_dir = \"data/\"\n",
    "def load_mask(mask_path):\n",
    "    roi = io.imread(mask_path)\n",
    "    mask = roi > 0\n",
    "    return mask\n",
    "\n",
    "def get_values(img, mask_path):\n",
    "    mask = load_mask(mask_path)\n",
    "    return img[mask]\n",
    "\n",
    "\n",
    "paths = ['BoneROI.png', 'FatROI.png', 'KidneyROI.png', 'LiverROI.png', 'SpleenROI.png']\n",
    "values = [get_values(img, in_dir + path) for path in paths]"
   ]
  },
  {
   "cell_type": "code",
   "execution_count": null,
   "id": "bb3ee39b-bfd5-4007-9a2f-faa3b8635f15",
   "metadata": {},
   "outputs": [],
   "source": [
    "def get_gaussian_distributions(values, min_hu = -200, max_hu = 1000):\n",
    "    hu_range = np.arange(min_hu, max_hu, 1.0)\n",
    "    mu = np.mean(values)\n",
    "    std = np.std(values)\n",
    "    pdf = norm.pdf(hu_range, mu, std)\n",
    "    return pdf"
   ]
  },
  {
   "cell_type": "code",
   "execution_count": null,
   "id": "2ef25c99-1309-4456-bb50-2670358de2a0",
   "metadata": {},
   "outputs": [],
   "source": [
    "# Hounsfield unit limits of the plot\n",
    "min_hu, max_hu = -200, 1000\n",
    "hu_range = np.arange(min_hu, max_hu, 1.0)\n",
    "pdfs = [get_gaussian_distributions(value) for value in values]\n",
    "\n",
    "for pdf, path in zip(pdfs, paths):\n",
    "    plt.plot(hu_range, pdf, label=path)\n",
    "    \n",
    "plt.title(\"Fitted Gaussians\")\n",
    "plt.legend()\n",
    "plt.show()"
   ]
  },
  {
   "cell_type": "markdown",
   "id": "ca7b4f75-e075-4619-979a-3ed8c83598f7",
   "metadata": {},
   "source": [
    "# minimun distance classifier"
   ]
  },
  {
   "cell_type": "markdown",
   "id": "07579725-e310-44dd-aca2-1911a51e272e",
   "metadata": {},
   "source": [
    "In the minimum distance classifier the pixel value class ranges are defined using the average values of the training values. **If you have two classes, the threshold between them is defined as the mid-point between the two class value averages.**\n"
   ]
  },
  {
   "cell_type": "markdown",
   "id": "91e444b1-8afb-49c4-b2d4-4864814153b7",
   "metadata": {},
   "source": [
    "# parametric classifier\n",
    "In the parametric classifier, the standard deviation of the training pixel values is also used when determinin the class ranges. In the following, we are also trying to classify background, fat, soft tissue and bone.\n",
    "\n",
    "We start by finding the class ranges by manually inspecting the fitted Gaussians from each class."
   ]
  },
  {
   "cell_type": "code",
   "execution_count": null,
   "id": "19b9e005-bb73-45ae-a64a-a6b9fad6d6c9",
   "metadata": {},
   "outputs": [],
   "source": [
    "# In case we are directly given the parametric distributions: N(mean,std). \n",
    "# NASA exercise exam spring 2021\n",
    "\n",
    "# Define the Gaussian PDFs for each class\n",
    "mean_category1 = 7\n",
    "std_category1 = 2\n",
    "\n",
    "mean_category2 = 15\n",
    "std_category2 = 5\n",
    "\n",
    "mean_category3 = 3\n",
    "std_category3 = 5\n",
    "\n",
    "pdf_category1 = stats.norm(loc=mean_category1, scale=std_category1)\n",
    "pdf_category2 = stats.norm(loc=mean_category2, scale=std_category2)\n",
    "pdf_category3 = stats.norm(loc=mean_category3, scale=std_category3)\n",
    "\n",
    "# Define a function to find the intersection points\n",
    "def find_intersection(x):\n",
    "    return pdf_category1.pdf(x) - pdf_category3.pdf(x)\n",
    "\n",
    "intersection_point_categories31 = fsolve(find_intersection, x0=(mean_category3 + mean_category1) / 2)\n",
    "intersection_point_categories31\n",
    "\n",
    "def find_intersection(x):\n",
    "    return pdf_category2.pdf(x) - pdf_category1.pdf(x)\n",
    "\n",
    "intersection_point_categories21 = fsolve(find_intersection, x0=(mean_category2 + mean_category1) / 2)\n",
    "intersection_point_categories21\n",
    "\n",
    "print(f'The thresholds used should be: {intersection_point_categories31[0]}, and {intersection_point_categories21[0]}')"
   ]
  },
  {
   "cell_type": "code",
   "execution_count": null,
   "id": "7904e554-0715-4e29-85bb-87b2b779b751",
   "metadata": {},
   "outputs": [],
   "source": []
  },
  {
   "cell_type": "code",
   "execution_count": null,
   "id": "82417540-eaeb-4473-ad14-87e06e946371",
   "metadata": {},
   "outputs": [],
   "source": []
  },
  {
   "cell_type": "code",
   "execution_count": null,
   "id": "e104e68a-97bb-4507-8afb-2753a734b2a2",
   "metadata": {},
   "outputs": [],
   "source": []
  },
  {
   "cell_type": "code",
   "execution_count": null,
   "id": "3d669e0e-79ef-4844-b943-e8540dd711d9",
   "metadata": {},
   "outputs": [],
   "source": []
  }
 ],
 "metadata": {
  "kernelspec": {
   "display_name": "Python 3 (ipykernel)",
   "language": "python",
   "name": "python3"
  },
  "language_info": {
   "codemirror_mode": {
    "name": "ipython",
    "version": 3
   },
   "file_extension": ".py",
   "mimetype": "text/x-python",
   "name": "python",
   "nbconvert_exporter": "python",
   "pygments_lexer": "ipython3",
   "version": "3.11.4"
  }
 },
 "nbformat": 4,
 "nbformat_minor": 5
}
