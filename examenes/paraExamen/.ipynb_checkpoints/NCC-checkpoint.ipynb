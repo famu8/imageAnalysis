{
 "cells": [
  {
   "cell_type": "code",
   "execution_count": null,
   "id": "14118b6b-41ad-4725-a4ae-34fe50189eed",
   "metadata": {},
   "outputs": [],
   "source": [
    "def ncc(arr1, arr2):\n",
    "    # Multiplicación elemento por elemento y luego suma\n",
    "    correlation = np.sum(arr1 * arr2)\n",
    "    # RAIZ CUADRADA DE LA SUMA DE TODOS LOS ELEMENTOS AL CUADRADO     \n",
    "    lenght1 = np.sqrt(np.sum(arr1**2))\n",
    "    lenght2 = np.sqrt(np.sum(arr2**2))\n",
    "    \n",
    "    ncc = correlation / (lenght1*lenght2)\n",
    "    return ncc\n",
    "\n",
    "image = np.array([[149, 19, 3],\n",
    "                 [140, 14, 86],\n",
    "                 [234, 135, 41]])\n",
    "\n",
    "template = np.array([[66, 232, 37],\n",
    "                 [204, 46, 35],\n",
    "                 [110, 67, 222]])\n",
    "\n",
    "ncc_value = ncc(image, template)\n",
    "print(f'El valor de correlación es: {ncc_value}')"
   ]
  }
 ],
 "metadata": {
  "kernelspec": {
   "display_name": "Python 3 (ipykernel)",
   "language": "python",
   "name": "python3"
  },
  "language_info": {
   "codemirror_mode": {
    "name": "ipython",
    "version": 3
   },
   "file_extension": ".py",
   "mimetype": "text/x-python",
   "name": "python",
   "nbconvert_exporter": "python",
   "pygments_lexer": "ipython3",
   "version": "3.11.4"
  }
 },
 "nbformat": 4,
 "nbformat_minor": 5
}
