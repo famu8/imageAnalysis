{
 "cells": [
  {
   "cell_type": "code",
   "execution_count": 1,
   "id": "4bc87c96-6572-4d85-a6f8-b1efd8b4c514",
   "metadata": {
    "tags": []
   },
   "outputs": [],
   "source": [
    "import glob\n",
    "import numpy as np\n",
    "import cv2\n",
    "from matplotlib import pyplot as plt"
   ]
  },
  {
   "cell_type": "code",
   "execution_count": 2,
   "id": "f34d2477-581f-4835-aad6-d7f6b07d1140",
   "metadata": {
    "tags": []
   },
   "outputs": [],
   "source": [
    "# trae todas las imagenes que terminen en .png\n",
    "# utiliza una carpeta aparte solo para esas imagenes es lo mejor \n",
    "for i in range (6):\n",
    "    images = glob.glob (f\"./data/orchid/*.png\")"
   ]
  },
  {
   "cell_type": "code",
   "execution_count": 3,
   "id": "3e12c8c5-2f98-4c4f-ba6d-4ae20fb6f438",
   "metadata": {
    "tags": []
   },
   "outputs": [
    {
     "data": {
      "text/plain": [
       "[]"
      ]
     },
     "execution_count": 3,
     "metadata": {},
     "output_type": "execute_result"
    }
   ],
   "source": [
    "# comprueba el directorio\n",
    "images"
   ]
  },
  {
   "cell_type": "code",
   "execution_count": null,
   "id": "b3e009d6-2ae5-449b-920f-064628fcbba0",
   "metadata": {
    "tags": []
   },
   "outputs": [],
   "source": [
    "# esto de aqui abajo calcula la imagen media\n",
    "image_data = []\n",
    "for img in images:\n",
    "    this_image = cv2.imread(img, 1)\n",
    "    image_data.append(this_image)\n",
    "\n",
    "avg_image = image_data[0]\n",
    "for i in range(len(image_data)):\n",
    "    if i == 0:\n",
    "        pass\n",
    "    else:\n",
    "        alpha = 1.0/(i + 1)\n",
    "        beta = 1.0 - alpha\n",
    "        avg_image = cv2.addWeighted(image_data[i], alpha, avg_image, beta, 0.0)\n",
    "\n",
    "cv2.imwrite('avg_happy_face.png', avg_image)\n",
    "avg_image = cv2.imread('avg_happy_face.png')\n",
    "plt.imshow(avg_image)\n",
    "plt.show()"
   ]
  },
  {
   "cell_type": "code",
   "execution_count": 6,
   "id": "11e9ae4f-c6d4-4d3c-ab70-99c417345611",
   "metadata": {
    "tags": []
   },
   "outputs": [],
   "source": [
    "# lee la iamgen nueva\n",
    "in_dir = \"./data\"\n",
    "im_name = \"/avg_happy_face.png\"\n",
    "im = io.imread(in_dir + im_name)"
   ]
  },
  {
   "cell_type": "code",
   "execution_count": 5,
   "id": "a997edcd-a80b-4b4a-afd6-14050580861d",
   "metadata": {
    "tags": []
   },
   "outputs": [],
   "source": [
    "# aplica el sesgo\n",
    "# ojo si te piden amyor o menor que algo \n",
    "def sesgo_mascara(im, num):\n",
    "    mask = im > num\n",
    "    mask2 = img_as_ubyte(mask)\n",
    "    return mask2"
   ]
  },
  {
   "cell_type": "code",
   "execution_count": null,
   "id": "cd763f2e-ad96-42f2-9aab-1e573078e540",
   "metadata": {},
   "outputs": [],
   "source": [
    "img_orchidea_bin = sesgo_mascara(im, 150)"
   ]
  },
  {
   "cell_type": "code",
   "execution_count": null,
   "id": "5149cbb4-027b-4196-8315-0d0dcb02a2f4",
   "metadata": {},
   "outputs": [],
   "source": [
    "# muestra la imagen\n",
    "io.imshow(img_orchidea_bin)"
   ]
  },
  {
   "cell_type": "markdown",
   "id": "144074f5-807a-47ba-b00d-43cf24383599",
   "metadata": {},
   "source": [
    "# metodo TA mario"
   ]
  },
  {
   "cell_type": "code",
   "execution_count": 7,
   "id": "dfe5910f-546a-47d1-b8b4-e6ebaf744340",
   "metadata": {},
   "outputs": [],
   "source": [
    "# traes todas las imgs\n",
    "files = glob.glob(f\"./data/orchid/*.png\")\n",
    "\n",
    "height, width, channels = io.imread(files[0]).shape\n",
    "data_matrix = np.zeros((len(files), height * width * channels))\n",
    "for i, f in enumerate(files):\n",
    "    data_matrix[i, :] = io.imread(f).flatten()"
   ]
  },
  {
   "cell_type": "code",
   "execution_count": null,
   "id": "62a23292-e5f0-4286-a397-94cbfc5e7f11",
   "metadata": {},
   "outputs": [],
   "source": [
    "# media\n",
    "average_cat = np.mean(data_matrix, axis=0)"
   ]
  },
  {
   "cell_type": "code",
   "execution_count": null,
   "id": "f40ce3f6-5311-42a7-98f4-871b2dfd7bcb",
   "metadata": {},
   "outputs": [],
   "source": [
    "def create_u_byte_image_from_vector(im_vec, height, width, channels):\n",
    "    min_val = im_vec.min()\n",
    "    max_val = im_vec.max()\n",
    "\n",
    "    # Transform to [0, 1]\n",
    "    im_vec = np.subtract(im_vec, min_val)\n",
    "    im_vec = np.divide(im_vec, max_val - min_val)\n",
    "    im_vec = im_vec.reshape(height, width, channels)\n",
    "    im_out = img_as_ubyte(im_vec)\n",
    "    return im_out"
   ]
  },
  {
   "cell_type": "code",
   "execution_count": null,
   "id": "66566757-2fed-4edf-ae11-2cdee5a6d2cf",
   "metadata": {},
   "outputs": [],
   "source": [
    "average_cat_img = create_u_byte_image_from_vector(average_cat, height, width, channels)\n",
    "fig, ax = plt.subplots(1, 1, figsize=(6, 6))\n",
    "plt.imshow(average_cat_img)\n",
    "ax.set_title(\"Mean cat\")\n",
    "ax.set_axis_off()\n",
    "plt.show()"
   ]
  },
  {
   "cell_type": "code",
   "execution_count": null,
   "id": "292cbed4-6746-4a25-b4eb-de9b56d31e44",
   "metadata": {},
   "outputs": [],
   "source": [
    "average_cat_img.shape"
   ]
  },
  {
   "cell_type": "code",
   "execution_count": null,
   "id": "4f8700d1-123c-4bba-aca1-d30493567eea",
   "metadata": {},
   "outputs": [],
   "source": [
    "average_cat_img = rgb2gray(average_cat_img)\n",
    "average_cat_img = img_as_ubyte(average_cat_img) #para tenerla en uint8\n",
    "average_cat_img.dtype"
   ]
  },
  {
   "cell_type": "code",
   "execution_count": null,
   "id": "977497bb-dcd5-4ce8-a98b-c6b687f5ba28",
   "metadata": {},
   "outputs": [],
   "source": [
    "io.imshow(average_cat_img)"
   ]
  },
  {
   "cell_type": "code",
   "execution_count": null,
   "id": "346a27ad-9f8f-49b2-bc59-8cff77e9fbc6",
   "metadata": {},
   "outputs": [],
   "source": [
    "img_orchidea_bin = sesgo_mascara(average_cat_img, 150)\n",
    "io.imshow(img_orchidea_bin)"
   ]
  }
 ],
 "metadata": {
  "kernelspec": {
   "display_name": "Python 3 (ipykernel)",
   "language": "python",
   "name": "python3"
  },
  "language_info": {
   "codemirror_mode": {
    "name": "ipython",
    "version": 3
   },
   "file_extension": ".py",
   "mimetype": "text/x-python",
   "name": "python",
   "nbconvert_exporter": "python",
   "pygments_lexer": "ipython3",
   "version": "3.11.4"
  }
 },
 "nbformat": 4,
 "nbformat_minor": 5
}
