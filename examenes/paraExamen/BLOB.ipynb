{
 "cells": [
  {
   "cell_type": "markdown",
   "id": "76f949d8-4614-4a81-a324-98cb5e57a79f",
   "metadata": {
    "tags": []
   },
   "source": [
    "# blob analysis"
   ]
  },
  {
   "cell_type": "code",
   "execution_count": 3,
   "id": "c61b9a81-9234-4259-bb5e-0d25aada6499",
   "metadata": {
    "tags": []
   },
   "outputs": [],
   "source": [
    "import numpy as np\n",
    "import seaborn as sns\n",
    "import pandas as pd\n",
    "import matplotlib.pyplot as plt\n",
    "\n",
    "from sklearn.decomposition import PCA\n",
    "from sklearn.datasets import load_iris\n",
    "import matplotlib.pyplot as plt\n",
    "import numpy as np \n",
    "import matplotlib.pyplot as plt\n",
    "import pandas as pd\n",
    "#pip install scikit-image\n",
    "from skimage import color, io, measure, img_as_ubyte\n",
    "from skimage.measure import profile_line\n",
    "from skimage.transform import rescale, resize\n",
    "import matplotlib.pyplot as plt\n",
    "import numpy as np\n",
    "import pydicom as dicom\n",
    "import cv2 as cv\n",
    "from skimage.util import img_as_float\n",
    "from skimage.util import img_as_ubyte\n",
    "import skimage as ski\n",
    "import numpy as np\n",
    "from scipy.ndimage import correlate\n",
    "import matplotlib.pyplot as plt\n",
    "import seaborn as sns\n",
    "#pip install scikit-image\n",
    "from skimage import color, io, measure, img_as_ubyte\n",
    "from skimage.measure import profile_line\n",
    "from skimage.transform import rescale, resize\n",
    "import matplotlib.pyplot as plt\n",
    "import numpy as np\n",
    "import pydicom as dicom\n",
    "import cv2 as cv2\n",
    "from skimage.util import img_as_float\n",
    "from skimage.util import img_as_ubyte\n",
    "import skimage as ski\n",
    "from skimage.filters import median\n",
    "from skimage.filters import gaussian\n",
    "from skimage.filters import prewitt_h\n",
    "from skimage.filters import prewitt_v\n",
    "from skimage.filters import prewitt\n",
    "\n",
    "\n",
    "from skimage.morphology import erosion, dilation, opening, closing\n",
    "from skimage.morphology import disk \n",
    "\n",
    "from skimage.filters import threshold_otsu\n",
    "\n",
    "\n",
    "import numpy as np\n",
    "import skimage.io as io\n",
    "from skimage.color import rgb2gray\n",
    "from skimage.filters import threshold_otsu\n",
    "from skimage.morphology import erosion, dilation, opening, closing\n",
    "from skimage.morphology import disk \n",
    "import matplotlib.pyplot as plt\n",
    "\n",
    "\n",
    "from ipynb.fs.full.toolbox import *\n",
    "\n",
    "import numpy as np\n",
    "from scipy.ndimage import correlate\n",
    "import matplotlib.pyplot as plt\n",
    "import seaborn as sns\n",
    "#pip install scikit-image\n",
    "from skimage import color, io, measure, img_as_ubyte\n",
    "from skimage.measure import profile_line\n",
    "from skimage.transform import rescale, resize\n",
    "import matplotlib.pyplot as plt\n",
    "import numpy as np\n",
    "import pydicom as dicom\n",
    "import cv2 as cv2\n",
    "from skimage.util import img_as_float\n",
    "from skimage.util import img_as_ubyte\n",
    "import skimage as ski\n",
    "from skimage.filters import median\n",
    "from skimage.filters import gaussian\n",
    "from skimage.filters import prewitt_h\n",
    "from skimage.filters import prewitt_v\n",
    "from skimage.filters import prewitt\n",
    "\n",
    "\n",
    "from skimage.morphology import erosion, dilation, opening, closing\n",
    "from skimage.morphology import disk \n",
    "\n",
    "from skimage.filters import threshold_otsu\n",
    "\n",
    "\n",
    "import numpy as np\n",
    "import skimage.io as io\n",
    "from skimage.color import rgb2gray\n",
    "from skimage.filters import threshold_otsu\n",
    "from skimage.morphology import erosion, dilation, opening, closing\n",
    "from skimage.morphology import disk \n",
    "import matplotlib.pyplot as plt\n"
   ]
  },
  {
   "cell_type": "code",
   "execution_count": null,
   "id": "75dbcc4a-5cd7-45fa-833d-6cc34c6cf9a5",
   "metadata": {},
   "outputs": [],
   "source": [
    "in_dir = \"./data\"\n",
    "im_name = \"/floorboards.png\"\n",
    "im = io.imread(in_dir + im_name)\n",
    "im_floorboards = rgb2gray(im)\n",
    "im_floorboards = img_as_ubyte(im_floorboards) #para tenerla en uint8\n",
    "im_floorboards.dtype"
   ]
  },
  {
   "cell_type": "code",
   "execution_count": null,
   "id": "faa0ba49-4644-4e45-97b0-341b680280b3",
   "metadata": {},
   "outputs": [],
   "source": [
    "def sesgo_mascara(im, num):\n",
    "    mask = im < num\n",
    "    mask2 = img_as_ubyte(mask)\n",
    "    return mask2\n",
    "im_floorboards_bin= sesgo_mascara(im_floorboards, 100)\n",
    "io.imshow(im_floorboards_bin)"
   ]
  },
  {
   "cell_type": "code",
   "execution_count": null,
   "id": "1a7cb4f4-440b-44ff-bd1e-1df54adbc18a",
   "metadata": {},
   "outputs": [],
   "source": [
    "def apply_closing(binary, disk_sz):\n",
    "    footprint = disk(disk_sz)\n",
    "    closed = closing(binary, footprint)\n",
    "    return closed\n",
    "\n",
    "img_closed_flw = apply_closing(im_floorboards_bin, 10)\n",
    "io.imshow(img_closed_flw)\n",
    "im_opened_flw = apply_opening(img_closed_flw, 3)\n",
    "io.imshow(im_opened_flw)"
   ]
  },
  {
   "cell_type": "code",
   "execution_count": null,
   "id": "652f4042-f713-44df-bc72-fa56e8d4ccd3",
   "metadata": {},
   "outputs": [],
   "source": [
    "img_no_border = clear_border(im_opened_flw)\n",
    "io.imshow(img_no_border)"
   ]
  },
  {
   "cell_type": "code",
   "execution_count": null,
   "id": "b60db63e-1905-4864-a1be-db39f2a2eded",
   "metadata": {},
   "outputs": [],
   "source": [
    "label_img = measure.label(img_no_border, connectivity=2)\n",
    "n_labels = label_img.max()\n",
    "print(f\"Number of labels: {n_labels}\")"
   ]
  },
  {
   "cell_type": "code",
   "execution_count": null,
   "id": "be07f96f-6930-420c-8d8f-747e2d61ab24",
   "metadata": {},
   "outputs": [],
   "source": [
    "im_blob = label2rgb(label_img)\n",
    "plot_comparison(img_no_border, im_blob, 'BLOBS')"
   ]
  },
  {
   "cell_type": "code",
   "execution_count": null,
   "id": "eb4769cc-c3f6-4913-8068-92de2ac9564c",
   "metadata": {},
   "outputs": [],
   "source": [
    "foreground_pixels = np.sum(img_no_border == 255)\n",
    "print(f\"Number of foreground pixels in the final image: {foreground_pixels}\")"
   ]
  },
  {
   "cell_type": "code",
   "execution_count": null,
   "id": "238a8702-77fc-48d4-b025-2dceeee6ba86",
   "metadata": {},
   "outputs": [],
   "source": [
    "properties = measure.regionprops(label_img)\n",
    "\n",
    "# Filter BLOBs with an area larger than 100 pixels\n",
    "# esta linea de aqui abajo va cambiando segun lo que te pidan\n",
    "# filtered_labels = [prop.label for prop in properties if (prop.area > 100) and (prop.perimeter > 500)]\n",
    "filtered_labels = [prop.label for prop in properties if prop.area > 100]\n",
    "\n",
    "# Create a mask to keep only the BLOBs with an area larger than 100 pixels\n",
    "filtered_image = np.isin(label_img, filtered_labels)\n",
    "\n",
    "# Count the number of remaining foreground pixels\n",
    "foreground_pixels = len(filtered_image[filtered_image])\n",
    "\n",
    "print(f\"Number of remaining foreground pixels after area filtering: {foreground_pixels}\")\n",
    "io.imshow(filtered_image)"
   ]
  },
  {
   "cell_type": "markdown",
   "id": "b7be2d6d-b05e-4a48-8c07-a2b1a176c141",
   "metadata": {},
   "source": [
    "auqi abajo se calcula el area mas grande del blob analysis"
   ]
  },
  {
   "cell_type": "code",
   "execution_count": null,
   "id": "723c368d-6187-4a3f-bc99-f9562051c0f3",
   "metadata": {},
   "outputs": [],
   "source": [
    "# Find the properties of the labeled regions\n",
    "regions = measure.regionprops(label_img)\n",
    "\n",
    "# Find the largest blob\n",
    "largest_blob = max(regions, key=lambda r: r.area)\n",
    "\n",
    "# Find the area (in pixels) of the largest blob\n",
    "largest_blob_area = largest_blob.area\n",
    "\n",
    "print(\"Area of the largest BLOB:\", largest_blob_area)"
   ]
  },
  {
   "cell_type": "code",
   "execution_count": null,
   "id": "6b28b573-ba43-4138-9c8c-4fb7fd146dad",
   "metadata": {},
   "outputs": [],
   "source": []
  },
  {
   "cell_type": "code",
   "execution_count": null,
   "id": "58eabb97-e407-4d76-b554-ec0d57854b56",
   "metadata": {},
   "outputs": [],
   "source": []
  },
  {
   "cell_type": "code",
   "execution_count": null,
   "id": "e198d905-d99c-44cd-b366-35f1c124226e",
   "metadata": {},
   "outputs": [],
   "source": []
  }
 ],
 "metadata": {
  "kernelspec": {
   "display_name": "Python 3 (ipykernel)",
   "language": "python",
   "name": "python3"
  },
  "language_info": {
   "codemirror_mode": {
    "name": "ipython",
    "version": 3
   },
   "file_extension": ".py",
   "mimetype": "text/x-python",
   "name": "python",
   "nbconvert_exporter": "python",
   "pygments_lexer": "ipython3",
   "version": "3.11.4"
  }
 },
 "nbformat": 4,
 "nbformat_minor": 5
}
