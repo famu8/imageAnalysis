{
 "cells": [
  {
   "cell_type": "code",
   "execution_count": null,
   "id": "86851c8e-81b1-4b77-9a15-57b0906c67dd",
   "metadata": {},
   "outputs": [],
   "source": [
    "import numpy as np\n",
    "\n",
    "counter = 0\n",
    "for i in range(0, bin_img.shape[0] - 1):\n",
    "    for j in range(0, bin_img.shape[1] - 1):\n",
    "        if np.any(bin_img[i][j] == 1):\n",
    "            counter += 1\n",
    "\n",
    "print(counter)"
   ]
  }
 ],
 "metadata": {
  "kernelspec": {
   "display_name": "Python 3 (ipykernel)",
   "language": "python",
   "name": "python3"
  },
  "language_info": {
   "codemirror_mode": {
    "name": "ipython",
    "version": 3
   },
   "file_extension": ".py",
   "mimetype": "text/x-python",
   "name": "python",
   "nbconvert_exporter": "python",
   "pygments_lexer": "ipython3",
   "version": "3.11.4"
  }
 },
 "nbformat": 4,
 "nbformat_minor": 5
}
