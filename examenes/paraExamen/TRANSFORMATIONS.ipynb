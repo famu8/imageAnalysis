{
 "cells": [
  {
   "cell_type": "code",
   "execution_count": 1,
   "id": "77f14c78-8e26-485f-a943-95a08070ba50",
   "metadata": {
    "tags": []
   },
   "outputs": [],
   "source": [
    "import matplotlib.pyplot as plt\n",
    "import math\n",
    "from skimage.transform import rotate\n",
    "from skimage.transform import EuclideanTransform\n",
    "from skimage.transform import SimilarityTransform\n",
    "from skimage.transform import warp\n",
    "from skimage.transform import swirl\n",
    "import numpy as np\n",
    "from scipy.ndimage import correlate\n",
    "import matplotlib.pyplot as plt\n",
    "import seaborn as sns\n",
    "#pip install scikit-image\n",
    "from skimage import color, io, measure, img_as_ubyte\n",
    "from skimage.measure import profile_line\n",
    "from skimage.transform import rescale, resize\n",
    "import matplotlib.pyplot as plt\n",
    "import numpy as np\n",
    "import pydicom as dicom\n",
    "import cv2 as cv\n",
    "from skimage.util import img_as_float\n",
    "from skimage.util import img_as_ubyte\n",
    "import skimage as ski\n",
    "from skimage.filters import median\n",
    "from skimage.filters import gaussian\n",
    "from skimage.filters import prewitt_h\n",
    "from skimage.filters import prewitt_v\n",
    "from skimage.filters import prewitt\n",
    "\n",
    "\n",
    "from skimage.morphology import erosion, dilation, opening, closing\n",
    "from skimage.morphology import disk "
   ]
  },
  {
   "cell_type": "markdown",
   "id": "0bc4ab31-bea9-439a-b79a-5f592617e7c1",
   "metadata": {},
   "source": [
    "#### rotar en un centro y un angulo"
   ]
  },
  {
   "cell_type": "code",
   "execution_count": null,
   "id": "48ce3048-7ee5-4cdf-a9a0-a58640193f2a",
   "metadata": {},
   "outputs": [],
   "source": [
    "rot_center = [20, 20]\n",
    "rotation_angle = 16\n",
    "rotated_img = rotate(img, rotation_angle, center=rot_center)\n",
    "rot = img_as_ubyte(rotated_img)\n",
    "print(rot[200,200])"
   ]
  },
  {
   "cell_type": "code",
   "execution_count": null,
   "id": "e0ceb84d-87b0-441b-aacc-849a5b27d637",
   "metadata": {},
   "outputs": [],
   "source": []
  },
  {
   "cell_type": "code",
   "execution_count": null,
   "id": "d7b31457-bf80-4754-a530-2008884d1955",
   "metadata": {},
   "outputs": [],
   "source": []
  },
  {
   "cell_type": "code",
   "execution_count": null,
   "id": "bb7d48ec-533f-4e49-bc2c-826bf4ee6159",
   "metadata": {},
   "outputs": [],
   "source": []
  },
  {
   "cell_type": "code",
   "execution_count": null,
   "id": "cdff12ca-2496-4e31-b0d7-7f28c6a3b471",
   "metadata": {},
   "outputs": [],
   "source": []
  },
  {
   "cell_type": "code",
   "execution_count": null,
   "id": "5f81ddc6-dbda-427a-9762-bb45c643f3d1",
   "metadata": {},
   "outputs": [],
   "source": []
  },
  {
   "cell_type": "code",
   "execution_count": null,
   "id": "faf18822-10ff-4aba-8009-00c395a2076a",
   "metadata": {},
   "outputs": [],
   "source": []
  },
  {
   "cell_type": "code",
   "execution_count": null,
   "id": "a7da27ab-3cb1-4176-a19f-1f3f45fd3085",
   "metadata": {},
   "outputs": [],
   "source": []
  },
  {
   "cell_type": "code",
   "execution_count": null,
   "id": "9e4f2e9d-bb51-4b21-a664-5b1f856f91d9",
   "metadata": {},
   "outputs": [],
   "source": []
  },
  {
   "cell_type": "code",
   "execution_count": null,
   "id": "b35b13a4-ed96-4952-b0df-a5f34c3da971",
   "metadata": {},
   "outputs": [],
   "source": []
  },
  {
   "cell_type": "code",
   "execution_count": null,
   "id": "c5f44092-20d3-462d-9f26-926790e14dba",
   "metadata": {},
   "outputs": [],
   "source": []
  },
  {
   "cell_type": "code",
   "execution_count": null,
   "id": "63d99731-813e-4f39-97a3-d5213fe73194",
   "metadata": {},
   "outputs": [],
   "source": []
  },
  {
   "cell_type": "code",
   "execution_count": null,
   "id": "3094cc7d-a92e-465e-bc69-fe76983a8cf7",
   "metadata": {},
   "outputs": [],
   "source": []
  },
  {
   "cell_type": "code",
   "execution_count": null,
   "id": "80e4d196-a20b-4efd-bb9d-79eb92b0bb70",
   "metadata": {},
   "outputs": [],
   "source": []
  },
  {
   "cell_type": "code",
   "execution_count": null,
   "id": "94ab55b0-3231-4fad-a45c-583480bc3c2d",
   "metadata": {},
   "outputs": [],
   "source": []
  },
  {
   "cell_type": "code",
   "execution_count": null,
   "id": "8b879a1a-13b5-4256-b878-ce3ce06a90b7",
   "metadata": {},
   "outputs": [],
   "source": []
  },
  {
   "cell_type": "code",
   "execution_count": null,
   "id": "88b50bcb-935b-4ecd-a86b-62871f1149ed",
   "metadata": {},
   "outputs": [],
   "source": []
  },
  {
   "cell_type": "code",
   "execution_count": null,
   "id": "b752883b-73c0-4bba-8bfd-cfe1133577a3",
   "metadata": {},
   "outputs": [],
   "source": []
  },
  {
   "cell_type": "code",
   "execution_count": null,
   "id": "f983aa72-0ae3-4711-8951-fa4010a8dd72",
   "metadata": {},
   "outputs": [],
   "source": []
  },
  {
   "cell_type": "code",
   "execution_count": null,
   "id": "7626f2b8-e497-4239-95ff-3109b77329b6",
   "metadata": {},
   "outputs": [],
   "source": []
  },
  {
   "cell_type": "code",
   "execution_count": null,
   "id": "76366276-ddff-4280-9519-191ceb19559c",
   "metadata": {},
   "outputs": [],
   "source": []
  },
  {
   "cell_type": "code",
   "execution_count": null,
   "id": "1f5b7890-53e5-4281-bf4b-0e7427a2832c",
   "metadata": {},
   "outputs": [],
   "source": []
  }
 ],
 "metadata": {
  "kernelspec": {
   "display_name": "Python 3 (ipykernel)",
   "language": "python",
   "name": "python3"
  },
  "language_info": {
   "codemirror_mode": {
    "name": "ipython",
    "version": 3
   },
   "file_extension": ".py",
   "mimetype": "text/x-python",
   "name": "python",
   "nbconvert_exporter": "python",
   "pygments_lexer": "ipython3",
   "version": "3.11.4"
  }
 },
 "nbformat": 4,
 "nbformat_minor": 5
}
