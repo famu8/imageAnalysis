{
 "cells": [
  {
   "cell_type": "code",
   "execution_count": 2,
   "id": "fea129dd-1e32-4729-9938-676cd973bec3",
   "metadata": {
    "tags": []
   },
   "outputs": [],
   "source": [
    "import numpy as np\n",
    "import seaborn as sns\n",
    "import pandas as pd\n",
    "import matplotlib.pyplot as plt\n",
    "from scipy import stats\n",
    "from scipy.optimize import fsolve\n",
    "\n",
    "from sklearn.decomposition import PCA\n",
    "from sklearn.datasets import load_iris\n",
    "import matplotlib.pyplot as plt\n",
    "import numpy as np \n",
    "import matplotlib.pyplot as plt\n",
    "import pandas as pd\n",
    "#pip install scikit-image\n",
    "from skimage import color, io, measure, img_as_ubyte\n",
    "from skimage.measure import profile_line\n",
    "from skimage.transform import rescale, resize\n",
    "import matplotlib.pyplot as plt\n",
    "import numpy as np\n",
    "import pydicom as dicom\n",
    "import cv2 as cv\n",
    "from skimage.util import img_as_float\n",
    "from skimage.util import img_as_ubyte\n",
    "import skimage as ski\n",
    "import numpy as np\n",
    "from scipy.ndimage import correlate\n",
    "import matplotlib.pyplot as plt\n",
    "import seaborn as sns\n",
    "#pip install scikit-image\n",
    "from skimage import color, io, measure, img_as_ubyte\n",
    "from skimage.measure import profile_line\n",
    "from skimage.transform import rescale, resize\n",
    "import matplotlib.pyplot as plt\n",
    "import numpy as np\n",
    "import pydicom as dicom\n",
    "import cv2 as cv2\n",
    "from skimage.util import img_as_float\n",
    "from skimage.util import img_as_ubyte\n",
    "import skimage as ski\n",
    "from skimage.filters import median\n",
    "from skimage.filters import gaussian\n",
    "from skimage.filters import prewitt_h\n",
    "from skimage.filters import prewitt_v\n",
    "from skimage.filters import prewitt\n",
    "from skimage.morphology import disk,square, erosion, dilation, opening, closing\n",
    "\n",
    "\n",
    "from skimage.morphology import erosion, dilation, opening, closing\n",
    "from skimage.morphology import disk \n",
    "\n",
    "from skimage.filters import threshold_otsu\n",
    "\n",
    "\n",
    "import numpy as np\n",
    "import skimage.io as io\n",
    "from skimage.color import rgb2gray\n",
    "from skimage.filters import threshold_otsu\n",
    "from skimage.morphology import erosion, dilation, opening, closing\n",
    "from skimage.morphology import disk \n",
    "import matplotlib.pyplot as plt\n",
    "\n",
    "\n",
    "\n",
    "import numpy as np\n",
    "from scipy.ndimage import correlate\n",
    "import matplotlib.pyplot as plt\n",
    "import seaborn as sns\n",
    "#pip install scikit-image\n",
    "from skimage import color, io, measure, img_as_ubyte\n",
    "from skimage.measure import profile_line\n",
    "from skimage.transform import rescale, resize\n",
    "import matplotlib.pyplot as plt\n",
    "import numpy as np\n",
    "import pydicom as dicom\n",
    "import cv2 as cv2\n",
    "from skimage.util import img_as_float\n",
    "from skimage.util import img_as_ubyte\n",
    "import skimage as ski\n",
    "from skimage.filters import median\n",
    "from skimage.filters import gaussian\n",
    "from skimage.filters import prewitt_h\n",
    "from skimage.filters import prewitt_v\n",
    "from skimage.filters import prewitt\n",
    "\n",
    "\n",
    "from skimage.morphology import erosion, dilation, opening, closing\n",
    "from skimage.morphology import disk \n",
    "\n",
    "from skimage.filters import threshold_otsu\n",
    "from skimage.filters.rank import mean,median\n",
    "\n",
    "\n",
    "from skimage import io, transform, img_as_ubyte\n",
    "\n",
    "import numpy as np\n",
    "import skimage.io as io\n",
    "from skimage.color import rgb2gray\n",
    "from skimage.filters import threshold_otsu\n",
    "from skimage.morphology import erosion, dilation, opening, closing\n",
    "from skimage.morphology import disk \n",
    "import matplotlib.pyplot as plt\n",
    "\n",
    "from skimage.morphology import erosion, dilation, opening, closing\n",
    "from skimage.morphology import disk \n",
    "from skimage.segmentation import clear_border\n",
    "from skimage.color import lab2rgb\n",
    "from skimage.color import label2rgb\n",
    "from skimage.measure import profile_line, label, regionprops\n",
    "from skimage import io, color, filters, measure\n",
    "import matplotlib.pyplot as plt\n",
    "import math\n",
    "from skimage.transform import rotate\n",
    "from skimage.transform import EuclideanTransform\n",
    "from skimage.transform import SimilarityTransform\n",
    "from skimage.transform import warp\n",
    "from skimage.transform import swirl\n",
    "import numpy as np\n",
    "from scipy.ndimage import correlate\n",
    "import matplotlib.pyplot as plt\n",
    "import seaborn as sns\n",
    "#pip install scikit-image\n",
    "from skimage import color, io, measure, img_as_ubyte\n",
    "from skimage.measure import profile_line\n",
    "from skimage.transform import rescale, resize\n",
    "import matplotlib.pyplot as plt\n",
    "import numpy as np\n",
    "import pydicom as dicom\n",
    "import cv2 as cv\n",
    "from skimage.util import img_as_float\n",
    "from skimage.util import img_as_ubyte\n",
    "import skimage as ski\n",
    "from skimage.filters import median\n",
    "from skimage.filters import gaussian\n",
    "from skimage.filters import prewitt_h\n",
    "from skimage.filters import prewitt_v\n",
    "from skimage.filters import prewitt\n",
    "\n",
    "\n",
    "from skimage.morphology import erosion, dilation, opening, closing\n",
    "from skimage.morphology import disk "
   ]
  },
  {
   "cell_type": "code",
   "execution_count": 3,
   "id": "8ee47b40-0706-4889-813b-2806f54a610e",
   "metadata": {
    "tags": []
   },
   "outputs": [
    {
     "data": {
      "text/plain": [
       "'\\nTe piden calcular deteccion en fotos\\n'"
      ]
     },
     "execution_count": 3,
     "metadata": {},
     "output_type": "execute_result"
    }
   ],
   "source": [
    "\"\"\"\n",
    "Te piden calcular deteccion en fotos\n",
    "\"\"\""
   ]
  },
  {
   "cell_type": "markdown",
   "id": "1fda426b-f81e-43e7-989f-4004b6300d26",
   "metadata": {},
   "source": [
    "# deteccion de cambios / abs difference"
   ]
  },
  {
   "cell_type": "code",
   "execution_count": null,
   "id": "cc7bc0e3-620d-4e2e-845f-25e5aa469efd",
   "metadata": {},
   "outputs": [],
   "source": [
    "path1 = r\"./data/change1.png\"\n",
    "img1 = io.imread(path1)\n",
    "img1 = rgb2gray(img1)\n",
    "\n",
    "path2 = r\"./data/change2.png\"\n",
    "img2 = io.imread(path2)\n",
    "img2 = rgb2gray(img2)\n",
    "# las fotos tienen que tener el mismo tamaño!!!!!!!!!!!!!!!!!!!!!!!!!!"
   ]
  },
  {
   "cell_type": "code",
   "execution_count": null,
   "id": "07a3e3f9-c5d3-4cb1-88a7-319335e93239",
   "metadata": {},
   "outputs": [],
   "source": [
    "img1.dtype"
   ]
  },
  {
   "cell_type": "code",
   "execution_count": null,
   "id": "18482af4-636c-4787-a3cd-96288a6a5316",
   "metadata": {},
   "outputs": [],
   "source": [
    "img2.dtype"
   ]
  },
  {
   "cell_type": "code",
   "execution_count": null,
   "id": "4e0598fe-4f56-48a9-8405-972ea5269c43",
   "metadata": {},
   "outputs": [],
   "source": [
    "abs_diff_image = cv2.absdiff(img1, img2)\n",
    "\n",
    "# Display the original images and the absolute difference image\n",
    "plt.subplot(1, 3, 1), plt.imshow(img1, cmap='gray'), plt.title('Image 1'), plt.axis('off')\n",
    "plt.subplot(1, 3, 2), plt.imshow(img2, cmap='gray'), plt.title('Image 2'), plt.axis('off')\n",
    "plt.subplot(1, 3, 3), plt.imshow(abs_diff_image, cmap='gray'), plt.title('Absolute Difference Image'), plt.axis('off')\n",
    "plt.show()"
   ]
  },
  {
   "cell_type": "code",
   "execution_count": null,
   "id": "e0c49cc0-2595-4297-bccd-18c333da5589",
   "metadata": {},
   "outputs": [],
   "source": [
    "change_px = np.sum(abs_diff_image>0.3)\n",
    "print(\"px cambiados en la foto de abs diff: \", change_px)"
   ]
  },
  {
   "cell_type": "code",
   "execution_count": null,
   "id": "6dbf60a8-f2a4-4271-877f-9a6481664dd9",
   "metadata": {},
   "outputs": [],
   "source": [
    "total_px = 360*457\n",
    "# el size * size 2 da el tamaño totalde la foto\n",
    "percentage_change = (change_px / total_px)*100\n",
    "print(f\"The percentage of change px is: {percentage_change}\")"
   ]
  }
 ],
 "metadata": {
  "kernelspec": {
   "display_name": "Python 3 (ipykernel)",
   "language": "python",
   "name": "python3"
  },
  "language_info": {
   "codemirror_mode": {
    "name": "ipython",
    "version": 3
   },
   "file_extension": ".py",
   "mimetype": "text/x-python",
   "name": "python",
   "nbconvert_exporter": "python",
   "pygments_lexer": "ipython3",
   "version": "3.11.4"
  }
 },
 "nbformat": 4,
 "nbformat_minor": 5
}
