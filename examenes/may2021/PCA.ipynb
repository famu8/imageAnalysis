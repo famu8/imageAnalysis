{
 "cells": [
  {
   "cell_type": "code",
   "execution_count": 77,
   "id": "26f9ab6e-f79c-4bb1-ae76-5d70f5740f96",
   "metadata": {},
   "outputs": [],
   "source": [
    "import numpy as np \n",
    "import matplotlib.pyplot as plt\n",
    "import pandas as pd"
   ]
  },
  {
   "cell_type": "code",
   "execution_count": 78,
   "id": "629f4d73-de6a-46c9-a713-26c5fe335272",
   "metadata": {
    "tags": []
   },
   "outputs": [],
   "source": [
    "import numpy as np\n",
    "import seaborn as sns\n",
    "import pandas as pd\n",
    "import matplotlib.pyplot as plt\n",
    "in_dir=\"./data\"\n",
    "txt_name=\"/irisdata.txt\"\n",
    "data = np.loadtxt(in_dir + txt_name, comments=\"%\")"
   ]
  },
  {
   "cell_type": "code",
   "execution_count": 79,
   "id": "1162358d-9f26-480b-8907-b2a1414151b6",
   "metadata": {
    "tags": []
   },
   "outputs": [],
   "source": [
    "data_iris = data[0:150, 0:4]"
   ]
  },
  {
   "cell_type": "markdown",
   "id": "37100e24-24a9-4e9c-b494-326633744996",
   "metadata": {},
   "source": [
    "# PCA"
   ]
  },
  {
   "cell_type": "code",
   "execution_count": 81,
   "id": "b344a507-b74e-4bec-9549-8f9b9fc0bd42",
   "metadata": {
    "tags": []
   },
   "outputs": [],
   "source": [
    "from sklearn.decomposition import PCA\n",
    "from sklearn.datasets import load_iris\n",
    "import matplotlib.pyplot as plt"
   ]
  },
  {
   "cell_type": "code",
   "execution_count": 88,
   "id": "240f4942-7b6d-4c24-b93d-d559861888fe",
   "metadata": {
    "tags": []
   },
   "outputs": [
    {
     "data": {
      "image/png": "[encoded data removed]",
      "text/plain": [
       "<Figure size 640x480 with 1 Axes>"
      ]
     },
     "metadata": {},
     "output_type": "display_data"
    },
    {
     "name": "stdout",
     "output_type": "stream",
     "text": [
      "varianza explicada por cada PCA [0.92461872 0.05306648 0.01710261 0.00521218]\n"
     ]
    }
   ],
   "source": [
    "pca = PCA()\n",
    "\n",
    "pca.fit(data_iris)\n",
    "plt.plot(pca.explained_variance_ratio_)\n",
    "plt.show()\n",
    "\n",
    "mn = np.mean(data_iris, axis=0)\n",
    "x = data_iris-mn\n",
    "\n",
    "explained_variance_ratio  = pca.explained_variance_ratio_\n",
    "\n",
    "vectors_2 = pca.components_\n",
    "print('varianza explicada por cada PCA',explained_variance_ratio)\n",
    "\n",
    "percentage_explained = sum(explained_variance_ratio) * 100\n",
    "\n",
    "# print(f\"The first two principal components explain {percentage_explained:.2f}% of the total variation.\")\n",
    "\n",
    "# This is transposed compared to \"pc_proj\" above\n",
    "data_transform = pca.transform(x)"
   ]
  },
  {
   "cell_type": "code",
   "execution_count": 92,
   "id": "07495eef-e31c-4b41-bd05-8efc7412dea4",
   "metadata": {},
   "outputs": [
    {
     "name": "stdout",
     "output_type": "stream",
     "text": [
      "Projected values of the first flower in PCA space: [[-2.68412563e+00  3.19397247e-01 -2.79148276e-02 -2.26243707e-03]]\n"
     ]
    }
   ],
   "source": [
    "# Project the data of the first flower into the PCA space\n",
    "# aqui abajo eliges la flor que te digan\n",
    "first_flower_data = data_iris[0, :].reshape(1, -1)  # Assuming the first flower's data is in the first row of your data\n",
    "projected_data = pca.transform(first_flower_data)\n",
    "\n",
    "# The \"projected_data\" variable now contains the projected values of the first flower in PCA space\n",
    "print(\"Projected values of the first flower in PCA space:\", projected_data)"
   ]
  },
  {
   "cell_type": "code",
   "execution_count": null,
   "id": "c6a7c2d1-4142-4718-ad1e-44875aaa4d55",
   "metadata": {},
   "outputs": [],
   "source": []
  },
  {
   "cell_type": "code",
   "execution_count": null,
   "id": "d507da69-5060-4f6a-9680-790c9947e872",
   "metadata": {},
   "outputs": [],
   "source": []
  },
  {
   "cell_type": "code",
   "execution_count": null,
   "id": "48117df4-5aa5-418a-bff9-9aaef52ac5b4",
   "metadata": {},
   "outputs": [],
   "source": []
  },
  {
   "cell_type": "code",
   "execution_count": null,
   "id": "5c660138-16fc-417e-9d25-634aad0438c6",
   "metadata": {},
   "outputs": [],
   "source": []
  },
  {
   "cell_type": "code",
   "execution_count": null,
   "id": "54fac97f-a4ff-4720-9d59-a9443584d312",
   "metadata": {},
   "outputs": [],
   "source": []
  },
  {
   "cell_type": "code",
   "execution_count": null,
   "id": "7fe6d4c0-1508-428a-ad26-0a067f3e4162",
   "metadata": {},
   "outputs": [],
   "source": []
  }
 ],
 "metadata": {
  "kernelspec": {
   "display_name": "Python 3 (ipykernel)",
   "language": "python",
   "name": "python3"
  },
  "language_info": {
   "codemirror_mode": {
    "name": "ipython",
    "version": 3
   },
   "file_extension": ".py",
   "mimetype": "text/x-python",
   "name": "python",
   "nbconvert_exporter": "python",
   "pygments_lexer": "ipython3",
   "version": "3.11.4"
  }
 },
 "nbformat": 4,
 "nbformat_minor": 5
}
