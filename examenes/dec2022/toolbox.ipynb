{
 "cells": [
  {
   "cell_type": "code",
   "execution_count": 7,
   "id": "5969b87e-0a3f-40fd-a184-5946c92c3440",
   "metadata": {
    "tags": []
   },
   "outputs": [],
   "source": [
    "import numpy as np \n",
    "import matplotlib.pyplot as plt\n",
    "import pandas as pd\n",
    "#pip install scikit-image\n",
    "from skimage import color, io, measure, img_as_ubyte\n",
    "from skimage.measure import profile_line\n",
    "from skimage.transform import rescale, resize\n",
    "import matplotlib.pyplot as plt\n",
    "import numpy as np\n",
    "import pydicom as dicom\n",
    "import cv2 as cv\n",
    "from skimage.util import img_as_float\n",
    "from skimage.util import img_as_ubyte\n",
    "import skimage as ski\n",
    "import numpy as np\n",
    "from scipy.ndimage import correlate\n",
    "import matplotlib.pyplot as plt\n",
    "import seaborn as sns\n",
    "#pip install scikit-image\n",
    "from skimage import color, io, measure, img_as_ubyte\n",
    "from skimage.measure import profile_line\n",
    "from skimage.transform import rescale, resize\n",
    "import matplotlib.pyplot as plt\n",
    "import numpy as np\n",
    "import pydicom as dicom\n",
    "import cv2 as cv2\n",
    "from skimage.util import img_as_float\n",
    "from skimage.util import img_as_ubyte\n",
    "import skimage as ski\n",
    "from skimage.filters import median\n",
    "from skimage.filters import gaussian\n",
    "from skimage.filters import prewitt_h\n",
    "from skimage.filters import prewitt_v\n",
    "from skimage.filters import prewitt\n",
    "from skimage import io, color, filters\n",
    "\n",
    "\n",
    "from skimage.morphology import erosion, dilation, opening, closing\n",
    "from skimage.morphology import disk \n",
    "\n",
    "from skimage.filters import threshold_otsu\n",
    "\n",
    "\n",
    "import numpy as np\n",
    "import skimage.io as io\n",
    "from skimage.color import rgb2gray\n",
    "from skimage.filters import threshold_otsu\n",
    "from skimage.morphology import erosion, dilation, opening, closing\n",
    "from skimage.morphology import disk \n",
    "import matplotlib.pyplot as plt"
   ]
  },
  {
   "cell_type": "code",
   "execution_count": 2,
   "id": "8dc956eb-2f9b-45ab-8628-a46fb63ed4be",
   "metadata": {
    "tags": []
   },
   "outputs": [],
   "source": [
    "def plot_comparison(original, filtered, filter_name):\n",
    "    fig, (ax1, ax2) = plt.subplots(ncols=2, figsize=(8, 4), sharex=True,\n",
    "                                   sharey=True)\n",
    "    ax1.imshow(original, cmap=plt.cm.gray)\n",
    "    ax1.set_title('original')\n",
    "    ax1.axis('off')\n",
    "    ax2.imshow(filtered, cmap=plt.cm.gray)\n",
    "    ax2.set_title(filter_name)\n",
    "    ax2.axis('off')\n",
    "    io.show()"
   ]
  },
  {
   "cell_type": "code",
   "execution_count": 3,
   "id": "9ecea293-ee05-4dd0-913c-5a50536735c5",
   "metadata": {},
   "outputs": [],
   "source": [
    "def img_and_hist(im):\n",
    "    plt.figure(figsize=(10,6))\n",
    "    plt.subplot(1,2,1)\n",
    "    io.imshow(im)\n",
    "    plt.title('image')\n",
    "\n",
    "    plt.subplot(1,2,2)\n",
    "    plt.hist(im.ravel(), bins=256)\n",
    "    plt.title('Image histogram')\n",
    "    print(\"El tipo de la imagen es: \", im.dtype)\n",
    "    print(f'el max del hist es : {im.ravel().max}')\n",
    "    print(f'el min del hist es : {im.ravel().min}')\n",
    "\n",
    "    plt.show()"
   ]
  },
  {
   "cell_type": "code",
   "execution_count": 4,
   "id": "4ab2aff3-1f81-4e84-989c-1f66ff116641",
   "metadata": {},
   "outputs": [],
   "source": [
    "def row_and_column(im, r, c):\n",
    "    im_val = im[r, c]\n",
    "    print(f\"The pixel value at (r,c) = ({r}, {c}) is: {im_val}\")"
   ]
  },
  {
   "cell_type": "code",
   "execution_count": 5,
   "id": "16628e3c-f67d-43a2-9189-e62b1cc56d64",
   "metadata": {},
   "outputs": [],
   "source": [
    "def sesgo_mascara(im, num):\n",
    "    mask = im > num\n",
    "    mask2 = img_as_ubyte(mask)\n",
    "    return mask2\n",
    "\n",
    "# no funcoina hazlo a mano cuando puedas"
   ]
  },
  {
   "cell_type": "code",
   "execution_count": 6,
   "id": "a899afd6-6814-44f2-ba41-052fa19ce21a",
   "metadata": {
    "tags": []
   },
   "outputs": [],
   "source": [
    "def canales_rgb(im_dtu):\n",
    "    r_comp = im_dtu[:, :, 0]\n",
    "    g_comp = im_dtu[:, :, 1]\n",
    "    b_comp = im_dtu[:, :, 2]\n",
    "    #notacion: [filas_inicio:final_final , columnas_inicio:columnas_final, canal RGB]\n",
    "    f, axarr = plt.subplots(1,4, figsize=(14,5))\n",
    "    axarr[0].imshow(im_dtu)\n",
    "    axarr[0].set_title('Foto original')  # Título del primer subplot\n",
    "\n",
    "    axarr[1].imshow(r_comp, cmap='gray')\n",
    "    axarr[1].set_title('Canal R')  # Título del primer subplot\n",
    "\n",
    "    axarr[2].imshow(g_comp, cmap='gray')\n",
    "    axarr[2].set_title('Canal G')  # Título del segundo subplot\n",
    "\n",
    "    axarr[3].imshow(b_comp, cmap='gray')\n",
    "    axarr[3].set_title('Canal B')  # Título del tercer subplot\n",
    "\n",
    "    plt.suptitle('DTU channles')\n",
    "    plt.show()\n"
   ]
  },
  {
   "cell_type": "code",
   "execution_count": null,
   "id": "48d8287f-5fcb-4892-8c90-35967a2608cf",
   "metadata": {},
   "outputs": [],
   "source": [
    "# hacer color threshplding en rgb"
   ]
  },
  {
   "cell_type": "code",
   "execution_count": null,
   "id": "a713e995-a31a-40c1-b679-bfb205957f7e",
   "metadata": {},
   "outputs": [],
   "source": []
  },
  {
   "cell_type": "code",
   "execution_count": null,
   "id": "8aa97e03-aaa3-4be8-8b14-117ac70371a5",
   "metadata": {},
   "outputs": [],
   "source": []
  },
  {
   "cell_type": "code",
   "execution_count": null,
   "id": "ddb86332-1311-40c2-a0f8-d3a78a085bfb",
   "metadata": {},
   "outputs": [],
   "source": []
  },
  {
   "cell_type": "code",
   "execution_count": null,
   "id": "3526f7b6-14ec-49b8-8955-c307427e20cb",
   "metadata": {},
   "outputs": [],
   "source": []
  },
  {
   "cell_type": "code",
   "execution_count": null,
   "id": "fcb4919b-c8ba-42bd-bc6c-1271079cc979",
   "metadata": {},
   "outputs": [],
   "source": []
  },
  {
   "cell_type": "code",
   "execution_count": null,
   "id": "a3e2f880-1d0b-498d-a5f8-575f153084a8",
   "metadata": {},
   "outputs": [],
   "source": []
  }
 ],
 "metadata": {
  "kernelspec": {
   "display_name": "Python 3 (ipykernel)",
   "language": "python",
   "name": "python3"
  },
  "language_info": {
   "codemirror_mode": {
    "name": "ipython",
    "version": 3
   },
   "file_extension": ".py",
   "mimetype": "text/x-python",
   "name": "python",
   "nbconvert_exporter": "python",
   "pygments_lexer": "ipython3",
   "version": "3.11.4"
  }
 },
 "nbformat": 4,
 "nbformat_minor": 5
}
